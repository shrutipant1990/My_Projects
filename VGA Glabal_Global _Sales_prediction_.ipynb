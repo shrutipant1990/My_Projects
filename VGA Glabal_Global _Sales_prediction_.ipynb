{
 "cells": [
  {
   "cell_type": "markdown",
   "metadata": {},
   "source": [
    "# A small study on online Video Game Sales"
   ]
  },
  {
   "cell_type": "markdown",
   "metadata": {},
   "source": [
    "This is Video Game Sales Data from Kaggle scraped from a video game website. The objective if this study is:\n",
    "1) Ascertaining World_Sales based on sales in North America and other possible factors\n",
    "2) Drawing insights from the data\n",
    "\n",
    "* Insights and general observations from the data are at the end of the analysis"
   ]
  },
  {
   "cell_type": "code",
   "execution_count": 1,
   "metadata": {},
   "outputs": [],
   "source": [
    "#Importing common libraries\n",
    "import pandas as pd\n",
    "import numpy as np\n",
    "import seaborn as sns\n",
    "import matplotlib.pyplot as plt\n",
    "from scipy.stats import mode\n",
    "sns.set_style('darkgrid')\n",
    "\n",
    "%matplotlib inline"
   ]
  },
  {
   "cell_type": "code",
   "execution_count": 2,
   "metadata": {},
   "outputs": [],
   "source": [
    "#Reading sample data\n",
    "df = pd.read_csv('vgsales.csv')"
   ]
  },
  {
   "cell_type": "code",
   "execution_count": 3,
   "metadata": {},
   "outputs": [
    {
     "data": {
      "text/html": [
       "<div>\n",
       "<style scoped>\n",
       "    .dataframe tbody tr th:only-of-type {\n",
       "        vertical-align: middle;\n",
       "    }\n",
       "\n",
       "    .dataframe tbody tr th {\n",
       "        vertical-align: top;\n",
       "    }\n",
       "\n",
       "    .dataframe thead th {\n",
       "        text-align: right;\n",
       "    }\n",
       "</style>\n",
       "<table border=\"1\" class=\"dataframe\">\n",
       "  <thead>\n",
       "    <tr style=\"text-align: right;\">\n",
       "      <th></th>\n",
       "      <th>Rank</th>\n",
       "      <th>Name</th>\n",
       "      <th>Platform</th>\n",
       "      <th>Year</th>\n",
       "      <th>Genre</th>\n",
       "      <th>Publisher</th>\n",
       "      <th>NA_Sales</th>\n",
       "      <th>EU_Sales</th>\n",
       "      <th>JP_Sales</th>\n",
       "      <th>Other_Sales</th>\n",
       "      <th>Global_Sales</th>\n",
       "    </tr>\n",
       "  </thead>\n",
       "  <tbody>\n",
       "    <tr>\n",
       "      <th>0</th>\n",
       "      <td>1</td>\n",
       "      <td>Wii Sports</td>\n",
       "      <td>Wii</td>\n",
       "      <td>2006.0</td>\n",
       "      <td>Sports</td>\n",
       "      <td>Nintendo</td>\n",
       "      <td>41.49</td>\n",
       "      <td>29.02</td>\n",
       "      <td>3.77</td>\n",
       "      <td>8.46</td>\n",
       "      <td>82.74</td>\n",
       "    </tr>\n",
       "    <tr>\n",
       "      <th>1</th>\n",
       "      <td>2</td>\n",
       "      <td>Super Mario Bros.</td>\n",
       "      <td>NES</td>\n",
       "      <td>1985.0</td>\n",
       "      <td>Platform</td>\n",
       "      <td>Nintendo</td>\n",
       "      <td>29.08</td>\n",
       "      <td>3.58</td>\n",
       "      <td>6.81</td>\n",
       "      <td>0.77</td>\n",
       "      <td>40.24</td>\n",
       "    </tr>\n",
       "    <tr>\n",
       "      <th>2</th>\n",
       "      <td>3</td>\n",
       "      <td>Mario Kart Wii</td>\n",
       "      <td>Wii</td>\n",
       "      <td>2008.0</td>\n",
       "      <td>Racing</td>\n",
       "      <td>Nintendo</td>\n",
       "      <td>15.85</td>\n",
       "      <td>12.88</td>\n",
       "      <td>3.79</td>\n",
       "      <td>3.31</td>\n",
       "      <td>35.82</td>\n",
       "    </tr>\n",
       "    <tr>\n",
       "      <th>3</th>\n",
       "      <td>4</td>\n",
       "      <td>Wii Sports Resort</td>\n",
       "      <td>Wii</td>\n",
       "      <td>2009.0</td>\n",
       "      <td>Sports</td>\n",
       "      <td>Nintendo</td>\n",
       "      <td>15.75</td>\n",
       "      <td>11.01</td>\n",
       "      <td>3.28</td>\n",
       "      <td>2.96</td>\n",
       "      <td>33.00</td>\n",
       "    </tr>\n",
       "    <tr>\n",
       "      <th>4</th>\n",
       "      <td>5</td>\n",
       "      <td>Pokemon Red/Pokemon Blue</td>\n",
       "      <td>GB</td>\n",
       "      <td>1996.0</td>\n",
       "      <td>Role-Playing</td>\n",
       "      <td>Nintendo</td>\n",
       "      <td>11.27</td>\n",
       "      <td>8.89</td>\n",
       "      <td>10.22</td>\n",
       "      <td>1.00</td>\n",
       "      <td>31.37</td>\n",
       "    </tr>\n",
       "  </tbody>\n",
       "</table>\n",
       "</div>"
      ],
      "text/plain": [
       "   Rank                      Name Platform    Year         Genre Publisher  \\\n",
       "0     1                Wii Sports      Wii  2006.0        Sports  Nintendo   \n",
       "1     2         Super Mario Bros.      NES  1985.0      Platform  Nintendo   \n",
       "2     3            Mario Kart Wii      Wii  2008.0        Racing  Nintendo   \n",
       "3     4         Wii Sports Resort      Wii  2009.0        Sports  Nintendo   \n",
       "4     5  Pokemon Red/Pokemon Blue       GB  1996.0  Role-Playing  Nintendo   \n",
       "\n",
       "   NA_Sales  EU_Sales  JP_Sales  Other_Sales  Global_Sales  \n",
       "0     41.49     29.02      3.77         8.46         82.74  \n",
       "1     29.08      3.58      6.81         0.77         40.24  \n",
       "2     15.85     12.88      3.79         3.31         35.82  \n",
       "3     15.75     11.01      3.28         2.96         33.00  \n",
       "4     11.27      8.89     10.22         1.00         31.37  "
      ]
     },
     "execution_count": 3,
     "metadata": {},
     "output_type": "execute_result"
    }
   ],
   "source": [
    "#Reviewing top  5 values of the sample\n",
    "df.head()"
   ]
  },
  {
   "cell_type": "code",
   "execution_count": 4,
   "metadata": {},
   "outputs": [
    {
     "name": "stdout",
     "output_type": "stream",
     "text": [
      "<class 'pandas.core.frame.DataFrame'>\n",
      "RangeIndex: 16598 entries, 0 to 16597\n",
      "Data columns (total 11 columns):\n",
      " #   Column        Non-Null Count  Dtype  \n",
      "---  ------        --------------  -----  \n",
      " 0   Rank          16598 non-null  int64  \n",
      " 1   Name          16598 non-null  object \n",
      " 2   Platform      16598 non-null  object \n",
      " 3   Year          16327 non-null  float64\n",
      " 4   Genre         16598 non-null  object \n",
      " 5   Publisher     16540 non-null  object \n",
      " 6   NA_Sales      16598 non-null  float64\n",
      " 7   EU_Sales      16598 non-null  float64\n",
      " 8   JP_Sales      16598 non-null  float64\n",
      " 9   Other_Sales   16598 non-null  float64\n",
      " 10  Global_Sales  16598 non-null  float64\n",
      "dtypes: float64(6), int64(1), object(4)\n",
      "memory usage: 1.4+ MB\n"
     ]
    }
   ],
   "source": [
    "#Exploring more details\n",
    "df.info()"
   ]
  },
  {
   "cell_type": "code",
   "execution_count": 5,
   "metadata": {},
   "outputs": [
    {
     "data": {
      "text/html": [
       "<div>\n",
       "<style scoped>\n",
       "    .dataframe tbody tr th:only-of-type {\n",
       "        vertical-align: middle;\n",
       "    }\n",
       "\n",
       "    .dataframe tbody tr th {\n",
       "        vertical-align: top;\n",
       "    }\n",
       "\n",
       "    .dataframe thead th {\n",
       "        text-align: right;\n",
       "    }\n",
       "</style>\n",
       "<table border=\"1\" class=\"dataframe\">\n",
       "  <thead>\n",
       "    <tr style=\"text-align: right;\">\n",
       "      <th></th>\n",
       "      <th>Rank</th>\n",
       "      <th>Year</th>\n",
       "      <th>NA_Sales</th>\n",
       "      <th>EU_Sales</th>\n",
       "      <th>JP_Sales</th>\n",
       "      <th>Other_Sales</th>\n",
       "      <th>Global_Sales</th>\n",
       "    </tr>\n",
       "  </thead>\n",
       "  <tbody>\n",
       "    <tr>\n",
       "      <th>count</th>\n",
       "      <td>16598.000000</td>\n",
       "      <td>16327.000000</td>\n",
       "      <td>16598.000000</td>\n",
       "      <td>16598.000000</td>\n",
       "      <td>16598.000000</td>\n",
       "      <td>16598.000000</td>\n",
       "      <td>16598.000000</td>\n",
       "    </tr>\n",
       "    <tr>\n",
       "      <th>mean</th>\n",
       "      <td>8300.605254</td>\n",
       "      <td>2006.406443</td>\n",
       "      <td>0.264667</td>\n",
       "      <td>0.146652</td>\n",
       "      <td>0.077782</td>\n",
       "      <td>0.048063</td>\n",
       "      <td>0.537441</td>\n",
       "    </tr>\n",
       "    <tr>\n",
       "      <th>std</th>\n",
       "      <td>4791.853933</td>\n",
       "      <td>5.828981</td>\n",
       "      <td>0.816683</td>\n",
       "      <td>0.505351</td>\n",
       "      <td>0.309291</td>\n",
       "      <td>0.188588</td>\n",
       "      <td>1.555028</td>\n",
       "    </tr>\n",
       "    <tr>\n",
       "      <th>min</th>\n",
       "      <td>1.000000</td>\n",
       "      <td>1980.000000</td>\n",
       "      <td>0.000000</td>\n",
       "      <td>0.000000</td>\n",
       "      <td>0.000000</td>\n",
       "      <td>0.000000</td>\n",
       "      <td>0.010000</td>\n",
       "    </tr>\n",
       "    <tr>\n",
       "      <th>25%</th>\n",
       "      <td>4151.250000</td>\n",
       "      <td>2003.000000</td>\n",
       "      <td>0.000000</td>\n",
       "      <td>0.000000</td>\n",
       "      <td>0.000000</td>\n",
       "      <td>0.000000</td>\n",
       "      <td>0.060000</td>\n",
       "    </tr>\n",
       "    <tr>\n",
       "      <th>50%</th>\n",
       "      <td>8300.500000</td>\n",
       "      <td>2007.000000</td>\n",
       "      <td>0.080000</td>\n",
       "      <td>0.020000</td>\n",
       "      <td>0.000000</td>\n",
       "      <td>0.010000</td>\n",
       "      <td>0.170000</td>\n",
       "    </tr>\n",
       "    <tr>\n",
       "      <th>75%</th>\n",
       "      <td>12449.750000</td>\n",
       "      <td>2010.000000</td>\n",
       "      <td>0.240000</td>\n",
       "      <td>0.110000</td>\n",
       "      <td>0.040000</td>\n",
       "      <td>0.040000</td>\n",
       "      <td>0.470000</td>\n",
       "    </tr>\n",
       "    <tr>\n",
       "      <th>max</th>\n",
       "      <td>16600.000000</td>\n",
       "      <td>2020.000000</td>\n",
       "      <td>41.490000</td>\n",
       "      <td>29.020000</td>\n",
       "      <td>10.220000</td>\n",
       "      <td>10.570000</td>\n",
       "      <td>82.740000</td>\n",
       "    </tr>\n",
       "  </tbody>\n",
       "</table>\n",
       "</div>"
      ],
      "text/plain": [
       "               Rank          Year      NA_Sales      EU_Sales      JP_Sales  \\\n",
       "count  16598.000000  16327.000000  16598.000000  16598.000000  16598.000000   \n",
       "mean    8300.605254   2006.406443      0.264667      0.146652      0.077782   \n",
       "std     4791.853933      5.828981      0.816683      0.505351      0.309291   \n",
       "min        1.000000   1980.000000      0.000000      0.000000      0.000000   \n",
       "25%     4151.250000   2003.000000      0.000000      0.000000      0.000000   \n",
       "50%     8300.500000   2007.000000      0.080000      0.020000      0.000000   \n",
       "75%    12449.750000   2010.000000      0.240000      0.110000      0.040000   \n",
       "max    16600.000000   2020.000000     41.490000     29.020000     10.220000   \n",
       "\n",
       "        Other_Sales  Global_Sales  \n",
       "count  16598.000000  16598.000000  \n",
       "mean       0.048063      0.537441  \n",
       "std        0.188588      1.555028  \n",
       "min        0.000000      0.010000  \n",
       "25%        0.000000      0.060000  \n",
       "50%        0.010000      0.170000  \n",
       "75%        0.040000      0.470000  \n",
       "max       10.570000     82.740000  "
      ]
     },
     "execution_count": 5,
     "metadata": {},
     "output_type": "execute_result"
    }
   ],
   "source": [
    "# Vieiwng basic statistics of numeric data\n",
    "df.describe()"
   ]
  },
  {
   "cell_type": "code",
   "execution_count": 6,
   "metadata": {},
   "outputs": [
    {
     "data": {
      "text/plain": [
       "<matplotlib.axes._subplots.AxesSubplot at 0x1955ee46160>"
      ]
     },
     "execution_count": 6,
     "metadata": {},
     "output_type": "execute_result"
    },
    {
     "data": {
      "image/png": "[encoded data removed]",
      "text/plain": [
       "<Figure size 432x288 with 2 Axes>"
      ]
     },
     "metadata": {
      "needs_background": "light"
     },
     "output_type": "display_data"
    }
   ],
   "source": [
    "# Correlation heatmap. The cell values indicate numerical value of correlation and color represents correlation level based on scale legend on the right.\n",
    "sns.heatmap(df.corr(),cmap = 'viridis',annot = True)"
   ]
  },
  {
   "cell_type": "markdown",
   "metadata": {},
   "source": [
    "# Missing Value Imputation"
   ]
  },
  {
   "cell_type": "code",
   "execution_count": 7,
   "metadata": {},
   "outputs": [
    {
     "name": "stdout",
     "output_type": "stream",
     "text": [
      "The missing values % for each feature is:\n",
      "Rank            0.0000\n",
      "Name            0.0000\n",
      "Platform        0.0000\n",
      "Year            1.6327\n",
      "Genre           0.0000\n",
      "Publisher       0.3494\n",
      "NA_Sales        0.0000\n",
      "EU_Sales        0.0000\n",
      "JP_Sales        0.0000\n",
      "Other_Sales     0.0000\n",
      "Global_Sales    0.0000\n",
      "dtype: float64\n"
     ]
    }
   ],
   "source": [
    "print('The missing values % for each feature is:')\n",
    "print(round(df.isnull().sum()/len(df)*100,4))"
   ]
  },
  {
   "cell_type": "markdown",
   "metadata": {},
   "source": [
    "First Missing value Feature - Year"
   ]
  },
  {
   "cell_type": "code",
   "execution_count": 8,
   "metadata": {},
   "outputs": [
    {
     "data": {
      "text/plain": [
       "<matplotlib.axes._subplots.AxesSubplot at 0x1955f77e278>"
      ]
     },
     "execution_count": 8,
     "metadata": {},
     "output_type": "execute_result"
    },
    {
     "data": {
      "image/png": "[encoded data removed]",
      "text/plain": [
       "<Figure size 432x288 with 1 Axes>"
      ]
     },
     "metadata": {
      "needs_background": "light"
     },
     "output_type": "display_data"
    }
   ],
   "source": [
    "# Plotting Year value\n",
    "\n",
    "sns.distplot(df['Year'].dropna(),bins=50,color='g')"
   ]
  },
  {
   "cell_type": "markdown",
   "metadata": {},
   "source": [
    "The data is provided for sale since 1980 - the data point (1980 to 1995) inclusion effects our accuracy. Given the change in technology and preferences between the year data points, this data information adds more noise."
   ]
  },
  {
   "cell_type": "code",
   "execution_count": 9,
   "metadata": {},
   "outputs": [
    {
     "name": "stdout",
     "output_type": "stream",
     "text": [
      "Year - Mean value: 2006\n",
      "Year - Median value: 2007.0\n",
      "Year - Mode value: 2009.0\n"
     ]
    }
   ],
   "source": [
    "# Exploring the median,mode and mean values for year\n",
    "\n",
    "print('Year - Mean value:',round(df['Year'].mean()))\n",
    "print('Year - Median value:',df['Year'].median())\n",
    "print('Year - Mode value:',df['Year'].mode()[0])"
   ]
  },
  {
   "cell_type": "markdown",
   "metadata": {},
   "source": [
    "The distribution is not perfectly normal in its spread, with slight skew on the right. \n",
    "However, Mean,Median and Mode all seem to converge to 2007 hence, we will impute median for missing year values."
   ]
  },
  {
   "cell_type": "code",
   "execution_count": 10,
   "metadata": {},
   "outputs": [],
   "source": [
    "# Viewing data before 1995 given low data points before 1995\n",
    "\n",
    "df = df[df['Year']>1995]"
   ]
  },
  {
   "cell_type": "code",
   "execution_count": 11,
   "metadata": {},
   "outputs": [],
   "source": [
    "#Filling median as missing values for year \n",
    "df['Year'].fillna(df['Year'].median(),inplace = True)"
   ]
  },
  {
   "cell_type": "markdown",
   "metadata": {},
   "source": [
    "Second missing value feature: Platform"
   ]
  },
  {
   "cell_type": "code",
   "execution_count": 12,
   "metadata": {},
   "outputs": [
    {
     "name": "stdout",
     "output_type": "stream",
     "text": [
      "The Mode value of platform feature: DS\n"
     ]
    }
   ],
   "source": [
    "print('The Mode value of platform feature:',df['Platform'].mode()[0])"
   ]
  },
  {
   "cell_type": "code",
   "execution_count": 13,
   "metadata": {},
   "outputs": [
    {
     "data": {
      "text/plain": [
       "DS      2132\n",
       "PS2     2127\n",
       "PS3     1304\n",
       "Wii     1290\n",
       "X360    1235\n",
       "Name: Platform, dtype: int64"
      ]
     },
     "execution_count": 13,
     "metadata": {},
     "output_type": "execute_result"
    }
   ],
   "source": [
    "#Top 5 Platform on the basis of frequency\n",
    "df['Platform'].value_counts().head()"
   ]
  },
  {
   "cell_type": "code",
   "execution_count": 14,
   "metadata": {},
   "outputs": [],
   "source": [
    "#Filling in mode value for all missing features\n",
    "\n",
    "df['Platform'].fillna(value = df['Platform'].mode()[0],inplace = True)"
   ]
  },
  {
   "cell_type": "markdown",
   "metadata": {},
   "source": [
    "# EDA - Exploring Data"
   ]
  },
  {
   "cell_type": "code",
   "execution_count": 15,
   "metadata": {},
   "outputs": [
    {
     "name": "stdout",
     "output_type": "stream",
     "text": [
      "This dataset has 9140 records where various segment's sale exactly matches Global_Sales out of a total of 15622 records\n",
      "This means that majority of our world_sales is dependent on the segments listed in the dataset, there are other unaccounted for segments that are not in this dataset\n"
     ]
    }
   ],
   "source": [
    "print('This dataset has',(df['NA_Sales']+df['EU_Sales']+df['JP_Sales']+df['Other_Sales'] == df['Global_Sales']).sum(),\"records where various segment's sale exactly matches Global_Sales out of a total of\", len(df),'records')\n",
    "print('This means that majority of our world_sales is dependent on the segments listed in the dataset, there are other unaccounted for segments that are not in this dataset')"
   ]
  },
  {
   "cell_type": "code",
   "execution_count": 16,
   "metadata": {},
   "outputs": [
    {
     "name": "stdout",
     "output_type": "stream",
     "text": [
      "We have 15622 unique values for \"Rank\" feature, compared to a total of 15622\n"
     ]
    }
   ],
   "source": [
    "# The rank feature is a unique label for each row which doesn't add any value to the analysis.\n",
    "print( 'We have',df['Rank'].nunique(),'unique values for \"Rank\" feature, compared to a total of',len(df))"
   ]
  },
  {
   "cell_type": "code",
   "execution_count": 17,
   "metadata": {},
   "outputs": [],
   "source": [
    "# Dropping Rank.\n",
    "df.drop('Rank',axis=1, inplace = True)"
   ]
  },
  {
   "cell_type": "markdown",
   "metadata": {},
   "source": [
    "Let's try to identify the top 10 games for each sale segment. "
   ]
  },
  {
   "cell_type": "code",
   "execution_count": 18,
   "metadata": {},
   "outputs": [],
   "source": [
    "NA_top_games = df[['Name','NA_Sales']].groupby('Name').sum().sort_values('NA_Sales',ascending = False).head(10)\n",
    "EU_top_games = df[['Name','EU_Sales']].groupby('Name').sum().sort_values('EU_Sales',ascending = False).head(10)\n",
    "JP_top_games = df[['Name','JP_Sales']].groupby('Name').sum().sort_values('JP_Sales',ascending = False).head(10)\n",
    "Other_top_games = df[['Name','Other_Sales']].groupby('Name').sum().sort_values('Other_Sales',ascending = False).head(10)\n",
    "Global_top_games = df[['Name','Global_Sales']].groupby('Name').sum().sort_values('Global_Sales',ascending = False).head(10)"
   ]
  },
  {
   "cell_type": "code",
   "execution_count": 19,
   "metadata": {},
   "outputs": [],
   "source": [
    "df_top_10 = pd.concat([NA_top_games,EU_top_games,JP_top_games,Other_top_games,Global_top_games],axis=1)"
   ]
  },
  {
   "cell_type": "code",
   "execution_count": 20,
   "metadata": {},
   "outputs": [
    {
     "data": {
      "text/html": [
       "<div>\n",
       "<style scoped>\n",
       "    .dataframe tbody tr th:only-of-type {\n",
       "        vertical-align: middle;\n",
       "    }\n",
       "\n",
       "    .dataframe tbody tr th {\n",
       "        vertical-align: top;\n",
       "    }\n",
       "\n",
       "    .dataframe thead th {\n",
       "        text-align: right;\n",
       "    }\n",
       "</style>\n",
       "<table border=\"1\" class=\"dataframe\">\n",
       "  <thead>\n",
       "    <tr style=\"text-align: right;\">\n",
       "      <th></th>\n",
       "      <th>NA_Sales</th>\n",
       "      <th>EU_Sales</th>\n",
       "      <th>JP_Sales</th>\n",
       "      <th>Other_Sales</th>\n",
       "      <th>Global_Sales</th>\n",
       "    </tr>\n",
       "  </thead>\n",
       "  <tbody>\n",
       "    <tr>\n",
       "      <th>Wii Sports</th>\n",
       "      <td>41.49</td>\n",
       "      <td>29.02</td>\n",
       "      <td>NaN</td>\n",
       "      <td>8.46</td>\n",
       "      <td>82.74</td>\n",
       "    </tr>\n",
       "    <tr>\n",
       "      <th>Grand Theft Auto V</th>\n",
       "      <td>23.46</td>\n",
       "      <td>23.04</td>\n",
       "      <td>NaN</td>\n",
       "      <td>8.03</td>\n",
       "      <td>55.92</td>\n",
       "    </tr>\n",
       "    <tr>\n",
       "      <th>Call of Duty: Black Ops</th>\n",
       "      <td>17.01</td>\n",
       "      <td>NaN</td>\n",
       "      <td>NaN</td>\n",
       "      <td>NaN</td>\n",
       "      <td>29.40</td>\n",
       "    </tr>\n",
       "    <tr>\n",
       "      <th>Mario Kart Wii</th>\n",
       "      <td>15.85</td>\n",
       "      <td>12.88</td>\n",
       "      <td>NaN</td>\n",
       "      <td>3.31</td>\n",
       "      <td>35.82</td>\n",
       "    </tr>\n",
       "    <tr>\n",
       "      <th>Wii Sports Resort</th>\n",
       "      <td>15.75</td>\n",
       "      <td>11.01</td>\n",
       "      <td>NaN</td>\n",
       "      <td>NaN</td>\n",
       "      <td>33.00</td>\n",
       "    </tr>\n",
       "    <tr>\n",
       "      <th>Call of Duty: Modern Warfare 3</th>\n",
       "      <td>15.58</td>\n",
       "      <td>11.29</td>\n",
       "      <td>NaN</td>\n",
       "      <td>3.35</td>\n",
       "      <td>30.83</td>\n",
       "    </tr>\n",
       "    <tr>\n",
       "      <th>Kinect Adventures!</th>\n",
       "      <td>14.97</td>\n",
       "      <td>NaN</td>\n",
       "      <td>NaN</td>\n",
       "      <td>NaN</td>\n",
       "      <td>NaN</td>\n",
       "    </tr>\n",
       "    <tr>\n",
       "      <th>Call of Duty: Ghosts</th>\n",
       "      <td>14.92</td>\n",
       "      <td>NaN</td>\n",
       "      <td>NaN</td>\n",
       "      <td>NaN</td>\n",
       "      <td>NaN</td>\n",
       "    </tr>\n",
       "    <tr>\n",
       "      <th>New Super Mario Bros. Wii</th>\n",
       "      <td>14.59</td>\n",
       "      <td>NaN</td>\n",
       "      <td>NaN</td>\n",
       "      <td>NaN</td>\n",
       "      <td>NaN</td>\n",
       "    </tr>\n",
       "    <tr>\n",
       "      <th>Call of Duty: Black Ops II</th>\n",
       "      <td>14.08</td>\n",
       "      <td>11.05</td>\n",
       "      <td>NaN</td>\n",
       "      <td>3.88</td>\n",
       "      <td>29.72</td>\n",
       "    </tr>\n",
       "    <tr>\n",
       "      <th>FIFA 15</th>\n",
       "      <td>NaN</td>\n",
       "      <td>12.40</td>\n",
       "      <td>NaN</td>\n",
       "      <td>NaN</td>\n",
       "      <td>NaN</td>\n",
       "    </tr>\n",
       "    <tr>\n",
       "      <th>FIFA 16</th>\n",
       "      <td>NaN</td>\n",
       "      <td>11.29</td>\n",
       "      <td>NaN</td>\n",
       "      <td>NaN</td>\n",
       "      <td>NaN</td>\n",
       "    </tr>\n",
       "    <tr>\n",
       "      <th>FIFA 14</th>\n",
       "      <td>NaN</td>\n",
       "      <td>11.14</td>\n",
       "      <td>NaN</td>\n",
       "      <td>NaN</td>\n",
       "      <td>NaN</td>\n",
       "    </tr>\n",
       "    <tr>\n",
       "      <th>Nintendogs</th>\n",
       "      <td>NaN</td>\n",
       "      <td>11.00</td>\n",
       "      <td>NaN</td>\n",
       "      <td>NaN</td>\n",
       "      <td>NaN</td>\n",
       "    </tr>\n",
       "    <tr>\n",
       "      <th>Pokemon Red/Pokemon Blue</th>\n",
       "      <td>NaN</td>\n",
       "      <td>NaN</td>\n",
       "      <td>10.22</td>\n",
       "      <td>NaN</td>\n",
       "      <td>31.37</td>\n",
       "    </tr>\n",
       "    <tr>\n",
       "      <th>Pokemon Gold/Pokemon Silver</th>\n",
       "      <td>NaN</td>\n",
       "      <td>NaN</td>\n",
       "      <td>7.20</td>\n",
       "      <td>NaN</td>\n",
       "      <td>NaN</td>\n",
       "    </tr>\n",
       "    <tr>\n",
       "      <th>New Super Mario Bros.</th>\n",
       "      <td>NaN</td>\n",
       "      <td>NaN</td>\n",
       "      <td>6.50</td>\n",
       "      <td>NaN</td>\n",
       "      <td>30.01</td>\n",
       "    </tr>\n",
       "    <tr>\n",
       "      <th>Pokemon Diamond/Pokemon Pearl</th>\n",
       "      <td>NaN</td>\n",
       "      <td>NaN</td>\n",
       "      <td>6.04</td>\n",
       "      <td>NaN</td>\n",
       "      <td>NaN</td>\n",
       "    </tr>\n",
       "    <tr>\n",
       "      <th>Pokemon Black/Pokemon White</th>\n",
       "      <td>NaN</td>\n",
       "      <td>NaN</td>\n",
       "      <td>5.65</td>\n",
       "      <td>NaN</td>\n",
       "      <td>NaN</td>\n",
       "    </tr>\n",
       "    <tr>\n",
       "      <th>Dragon Quest VII: Warriors of Eden</th>\n",
       "      <td>NaN</td>\n",
       "      <td>NaN</td>\n",
       "      <td>5.40</td>\n",
       "      <td>NaN</td>\n",
       "      <td>NaN</td>\n",
       "    </tr>\n",
       "    <tr>\n",
       "      <th>Pokemon Ruby/Pokemon Sapphire</th>\n",
       "      <td>NaN</td>\n",
       "      <td>NaN</td>\n",
       "      <td>5.38</td>\n",
       "      <td>NaN</td>\n",
       "      <td>NaN</td>\n",
       "    </tr>\n",
       "    <tr>\n",
       "      <th>Animal Crossing: Wild World</th>\n",
       "      <td>NaN</td>\n",
       "      <td>NaN</td>\n",
       "      <td>5.33</td>\n",
       "      <td>NaN</td>\n",
       "      <td>NaN</td>\n",
       "    </tr>\n",
       "    <tr>\n",
       "      <th>Brain Age 2: More Training in Minutes a Day</th>\n",
       "      <td>NaN</td>\n",
       "      <td>NaN</td>\n",
       "      <td>5.32</td>\n",
       "      <td>NaN</td>\n",
       "      <td>NaN</td>\n",
       "    </tr>\n",
       "    <tr>\n",
       "      <th>Monster Hunter Freedom 3</th>\n",
       "      <td>NaN</td>\n",
       "      <td>NaN</td>\n",
       "      <td>4.87</td>\n",
       "      <td>NaN</td>\n",
       "      <td>NaN</td>\n",
       "    </tr>\n",
       "    <tr>\n",
       "      <th>Grand Theft Auto: San Andreas</th>\n",
       "      <td>NaN</td>\n",
       "      <td>NaN</td>\n",
       "      <td>NaN</td>\n",
       "      <td>10.72</td>\n",
       "      <td>NaN</td>\n",
       "    </tr>\n",
       "    <tr>\n",
       "      <th>Gran Turismo 4</th>\n",
       "      <td>NaN</td>\n",
       "      <td>NaN</td>\n",
       "      <td>NaN</td>\n",
       "      <td>7.53</td>\n",
       "      <td>NaN</td>\n",
       "    </tr>\n",
       "    <tr>\n",
       "      <th>FIFA Soccer 08</th>\n",
       "      <td>NaN</td>\n",
       "      <td>NaN</td>\n",
       "      <td>NaN</td>\n",
       "      <td>3.53</td>\n",
       "      <td>NaN</td>\n",
       "    </tr>\n",
       "    <tr>\n",
       "      <th>Pro Evolution Soccer 2008</th>\n",
       "      <td>NaN</td>\n",
       "      <td>NaN</td>\n",
       "      <td>NaN</td>\n",
       "      <td>3.51</td>\n",
       "      <td>NaN</td>\n",
       "    </tr>\n",
       "    <tr>\n",
       "      <th>Call of Duty: Black Ops 3</th>\n",
       "      <td>NaN</td>\n",
       "      <td>NaN</td>\n",
       "      <td>NaN</td>\n",
       "      <td>3.42</td>\n",
       "      <td>NaN</td>\n",
       "    </tr>\n",
       "    <tr>\n",
       "      <th>Wii Play</th>\n",
       "      <td>NaN</td>\n",
       "      <td>NaN</td>\n",
       "      <td>NaN</td>\n",
       "      <td>NaN</td>\n",
       "      <td>29.02</td>\n",
       "    </tr>\n",
       "  </tbody>\n",
       "</table>\n",
       "</div>"
      ],
      "text/plain": [
       "                                             NA_Sales  EU_Sales  JP_Sales  \\\n",
       "Wii Sports                                      41.49     29.02       NaN   \n",
       "Grand Theft Auto V                              23.46     23.04       NaN   \n",
       "Call of Duty: Black Ops                         17.01       NaN       NaN   \n",
       "Mario Kart Wii                                  15.85     12.88       NaN   \n",
       "Wii Sports Resort                               15.75     11.01       NaN   \n",
       "Call of Duty: Modern Warfare 3                  15.58     11.29       NaN   \n",
       "Kinect Adventures!                              14.97       NaN       NaN   \n",
       "Call of Duty: Ghosts                            14.92       NaN       NaN   \n",
       "New Super Mario Bros. Wii                       14.59       NaN       NaN   \n",
       "Call of Duty: Black Ops II                      14.08     11.05       NaN   \n",
       "FIFA 15                                           NaN     12.40       NaN   \n",
       "FIFA 16                                           NaN     11.29       NaN   \n",
       "FIFA 14                                           NaN     11.14       NaN   \n",
       "Nintendogs                                        NaN     11.00       NaN   \n",
       "Pokemon Red/Pokemon Blue                          NaN       NaN     10.22   \n",
       "Pokemon Gold/Pokemon Silver                       NaN       NaN      7.20   \n",
       "New Super Mario Bros.                             NaN       NaN      6.50   \n",
       "Pokemon Diamond/Pokemon Pearl                     NaN       NaN      6.04   \n",
       "Pokemon Black/Pokemon White                       NaN       NaN      5.65   \n",
       "Dragon Quest VII: Warriors of Eden                NaN       NaN      5.40   \n",
       "Pokemon Ruby/Pokemon Sapphire                     NaN       NaN      5.38   \n",
       "Animal Crossing: Wild World                       NaN       NaN      5.33   \n",
       "Brain Age 2: More Training in Minutes a Day       NaN       NaN      5.32   \n",
       "Monster Hunter Freedom 3                          NaN       NaN      4.87   \n",
       "Grand Theft Auto: San Andreas                     NaN       NaN       NaN   \n",
       "Gran Turismo 4                                    NaN       NaN       NaN   \n",
       "FIFA Soccer 08                                    NaN       NaN       NaN   \n",
       "Pro Evolution Soccer 2008                         NaN       NaN       NaN   \n",
       "Call of Duty: Black Ops 3                         NaN       NaN       NaN   \n",
       "Wii Play                                          NaN       NaN       NaN   \n",
       "\n",
       "                                             Other_Sales  Global_Sales  \n",
       "Wii Sports                                          8.46         82.74  \n",
       "Grand Theft Auto V                                  8.03         55.92  \n",
       "Call of Duty: Black Ops                              NaN         29.40  \n",
       "Mario Kart Wii                                      3.31         35.82  \n",
       "Wii Sports Resort                                    NaN         33.00  \n",
       "Call of Duty: Modern Warfare 3                      3.35         30.83  \n",
       "Kinect Adventures!                                   NaN           NaN  \n",
       "Call of Duty: Ghosts                                 NaN           NaN  \n",
       "New Super Mario Bros. Wii                            NaN           NaN  \n",
       "Call of Duty: Black Ops II                          3.88         29.72  \n",
       "FIFA 15                                              NaN           NaN  \n",
       "FIFA 16                                              NaN           NaN  \n",
       "FIFA 14                                              NaN           NaN  \n",
       "Nintendogs                                           NaN           NaN  \n",
       "Pokemon Red/Pokemon Blue                             NaN         31.37  \n",
       "Pokemon Gold/Pokemon Silver                          NaN           NaN  \n",
       "New Super Mario Bros.                                NaN         30.01  \n",
       "Pokemon Diamond/Pokemon Pearl                        NaN           NaN  \n",
       "Pokemon Black/Pokemon White                          NaN           NaN  \n",
       "Dragon Quest VII: Warriors of Eden                   NaN           NaN  \n",
       "Pokemon Ruby/Pokemon Sapphire                        NaN           NaN  \n",
       "Animal Crossing: Wild World                          NaN           NaN  \n",
       "Brain Age 2: More Training in Minutes a Day          NaN           NaN  \n",
       "Monster Hunter Freedom 3                             NaN           NaN  \n",
       "Grand Theft Auto: San Andreas                      10.72           NaN  \n",
       "Gran Turismo 4                                      7.53           NaN  \n",
       "FIFA Soccer 08                                      3.53           NaN  \n",
       "Pro Evolution Soccer 2008                           3.51           NaN  \n",
       "Call of Duty: Black Ops 3                           3.42           NaN  \n",
       "Wii Play                                             NaN         29.02  "
      ]
     },
     "execution_count": 20,
     "metadata": {},
     "output_type": "execute_result"
    }
   ],
   "source": [
    "df_top_10"
   ]
  },
  {
   "cell_type": "code",
   "execution_count": 21,
   "metadata": {
    "scrolled": true
   },
   "outputs": [
    {
     "data": {
      "text/plain": [
       "Need for Speed: Most Wanted      12\n",
       "FIFA 14                           9\n",
       "LEGO Marvel Super Heroes          9\n",
       "Ratatouille                       9\n",
       "Angry Birds Star Wars             8\n",
       "                                 ..\n",
       "Haunted House                     1\n",
       "Cool Boarders 4                   1\n",
       "Maximum Capacity: Hotel Giant     1\n",
       "River City Ransom EX              1\n",
       "Driver                            1\n",
       "Name: Name, Length: 10758, dtype: int64"
      ]
     },
     "execution_count": 21,
     "metadata": {},
     "output_type": "execute_result"
    }
   ],
   "source": [
    "# The Name feature has alot of variation to be included into the analysis without extensive feature engineering.\n",
    "df['Name'].value_counts()"
   ]
  },
  {
   "cell_type": "code",
   "execution_count": 22,
   "metadata": {},
   "outputs": [],
   "source": [
    "# Dropping Name feature for now\n",
    "df.drop('Name',axis=1, inplace = True)"
   ]
  },
  {
   "cell_type": "markdown",
   "metadata": {},
   "source": [
    "Exploring the Platform feature. We will custom label encode 'Platform' feature ranked based on median Global_sales. "
   ]
  },
  {
   "cell_type": "code",
   "execution_count": 23,
   "metadata": {},
   "outputs": [
    {
     "name": "stdout",
     "output_type": "stream",
     "text": [
      "Unique \"Platforms\": 24\n"
     ]
    }
   ],
   "source": [
    "# Exploring the Platform feature\n",
    "print('Unique \"Platforms\":',df['Platform'].nunique())"
   ]
  },
  {
   "cell_type": "code",
   "execution_count": 24,
   "metadata": {},
   "outputs": [
    {
     "data": {
      "text/plain": [
       "<matplotlib.axes._subplots.AxesSubplot at 0x1955f8b7eb8>"
      ]
     },
     "execution_count": 24,
     "metadata": {},
     "output_type": "execute_result"
    },
    {
     "data": {
      "image/png": "[encoded data removed]",
      "text/plain": [
       "<Figure size 1008x360 with 1 Axes>"
      ]
     },
     "metadata": {
      "needs_background": "light"
     },
     "output_type": "display_data"
    }
   ],
   "source": [
    "# We see that there are 578 unique values in this feature. Plotting it to explore more information.\n",
    "df['Platform'].value_counts().plot.hist(bins = 100,figsize = (14,5))"
   ]
  },
  {
   "cell_type": "code",
   "execution_count": 25,
   "metadata": {},
   "outputs": [
    {
     "data": {
      "text/plain": [
       "<matplotlib.axes._subplots.AxesSubplot at 0x1955f9aee80>"
      ]
     },
     "execution_count": 25,
     "metadata": {},
     "output_type": "execute_result"
    },
    {
     "data": {
      "image/png": "[encoded data removed]",
      "text/plain": [
       "<Figure size 432x288 with 1 Axes>"
      ]
     },
     "metadata": {
      "needs_background": "light"
     },
     "output_type": "display_data"
    }
   ],
   "source": [
    "# Identifying the top 15 Platforms.\n",
    "g = df[['Platform','Global_Sales']].groupby('Platform').sum().sort_values('Global_Sales',ascending = False).head(15)\n",
    "g.plot()"
   ]
  },
  {
   "cell_type": "code",
   "execution_count": 26,
   "metadata": {},
   "outputs": [
    {
     "name": "stdout",
     "output_type": "stream",
     "text": [
      "Top 15 Platforms (out of 24 ) capture 96.0 % of market share in our sample\n"
     ]
    }
   ],
   "source": [
    "print('Top', len(g) ,'Platforms (out of', df['Platform'].nunique(),') capture', round(g['Global_Sales'].sum()/df['Global_Sales'].sum()*100),'% of market share in our sample')"
   ]
  },
  {
   "cell_type": "code",
   "execution_count": 27,
   "metadata": {},
   "outputs": [],
   "source": [
    "# We rename all Platform, apart from top 10, as other and then craete dummy variable with this feature.\n",
    "\n",
    "def rename_Platform(Platform):\n",
    "    if Platform in g.reset_index()['Platform'].values:\n",
    "        return Platform\n",
    "    else:\n",
    "        return 'Other'"
   ]
  },
  {
   "cell_type": "code",
   "execution_count": 28,
   "metadata": {},
   "outputs": [],
   "source": [
    "df['Platform'] = df['Platform'].apply(rename_Platform)"
   ]
  },
  {
   "cell_type": "code",
   "execution_count": 29,
   "metadata": {},
   "outputs": [],
   "source": [
    "#Creating dummy variables\n",
    "Platform_dummy = pd.get_dummies(df['Platform'],drop_first=True)\n",
    "df = pd.concat([df,Platform_dummy],axis=1)"
   ]
  },
  {
   "cell_type": "code",
   "execution_count": 30,
   "metadata": {},
   "outputs": [],
   "source": [
    "#Dropping original Platform column\n",
    "#Instead of drop first, we are dropping the 'Other variable' to remove multicollinearity\n",
    "df.drop(['Platform','Other'],axis=1,inplace = True)"
   ]
  },
  {
   "cell_type": "markdown",
   "metadata": {},
   "source": [
    "Favourite Genre of each sale segment."
   ]
  },
  {
   "cell_type": "code",
   "execution_count": 31,
   "metadata": {},
   "outputs": [],
   "source": [
    "# Top 10 \n",
    "NA_top_Genre = df[['Genre','NA_Sales']].groupby('Genre').sum().sort_values('NA_Sales',ascending = False).head(10)\n",
    "EU_top_Genre = df[['Genre','EU_Sales']].groupby('Genre').sum().sort_values('EU_Sales',ascending = False).head(10)\n",
    "JP_top_Genre = df[['Genre','JP_Sales']].groupby('Genre').sum().sort_values('JP_Sales',ascending = False).head(10)\n",
    "Other_top_Genre = df[['Genre','Other_Sales']].groupby('Genre').sum().sort_values('Other_Sales',ascending = False).head(10)\n",
    "Global_top_Genre = df[['Genre','Global_Sales']].groupby('Genre').sum().sort_values('Global_Sales',ascending = False).head(10)"
   ]
  },
  {
   "cell_type": "code",
   "execution_count": 32,
   "metadata": {},
   "outputs": [],
   "source": [
    "#Creating the 'Genre' dataframe\n",
    "df_Genre = pd.concat([NA_top_Genre,EU_top_Genre,JP_top_Genre,Other_top_Genre,Global_top_Genre],axis=1)"
   ]
  },
  {
   "cell_type": "code",
   "execution_count": 33,
   "metadata": {},
   "outputs": [
    {
     "data": {
      "text/html": [
       "<div>\n",
       "<style scoped>\n",
       "    .dataframe tbody tr th:only-of-type {\n",
       "        vertical-align: middle;\n",
       "    }\n",
       "\n",
       "    .dataframe tbody tr th {\n",
       "        vertical-align: top;\n",
       "    }\n",
       "\n",
       "    .dataframe thead th {\n",
       "        text-align: right;\n",
       "    }\n",
       "</style>\n",
       "<table border=\"1\" class=\"dataframe\">\n",
       "  <thead>\n",
       "    <tr style=\"text-align: right;\">\n",
       "      <th></th>\n",
       "      <th>NA_Sales</th>\n",
       "      <th>EU_Sales</th>\n",
       "      <th>JP_Sales</th>\n",
       "      <th>Other_Sales</th>\n",
       "      <th>Global_Sales</th>\n",
       "    </tr>\n",
       "  </thead>\n",
       "  <tbody>\n",
       "    <tr>\n",
       "      <th>Action</th>\n",
       "      <td>811.01</td>\n",
       "      <td>508.39</td>\n",
       "      <td>143.72</td>\n",
       "      <td>183.71</td>\n",
       "      <td>1647.79</td>\n",
       "    </tr>\n",
       "    <tr>\n",
       "      <th>Sports</th>\n",
       "      <td>651.40</td>\n",
       "      <td>366.08</td>\n",
       "      <td>100.27</td>\n",
       "      <td>131.76</td>\n",
       "      <td>1249.94</td>\n",
       "    </tr>\n",
       "    <tr>\n",
       "      <th>Shooter</th>\n",
       "      <td>517.22</td>\n",
       "      <td>303.68</td>\n",
       "      <td>NaN</td>\n",
       "      <td>100.51</td>\n",
       "      <td>948.59</td>\n",
       "    </tr>\n",
       "    <tr>\n",
       "      <th>Misc</th>\n",
       "      <td>393.03</td>\n",
       "      <td>210.54</td>\n",
       "      <td>96.73</td>\n",
       "      <td>73.68</td>\n",
       "      <td>774.59</td>\n",
       "    </tr>\n",
       "    <tr>\n",
       "      <th>Racing</th>\n",
       "      <td>340.62</td>\n",
       "      <td>230.59</td>\n",
       "      <td>42.76</td>\n",
       "      <td>75.40</td>\n",
       "      <td>689.59</td>\n",
       "    </tr>\n",
       "    <tr>\n",
       "      <th>Role-Playing</th>\n",
       "      <td>323.30</td>\n",
       "      <td>187.12</td>\n",
       "      <td>298.98</td>\n",
       "      <td>57.47</td>\n",
       "      <td>867.00</td>\n",
       "    </tr>\n",
       "    <tr>\n",
       "      <th>Platform</th>\n",
       "      <td>313.77</td>\n",
       "      <td>168.09</td>\n",
       "      <td>70.63</td>\n",
       "      <td>45.92</td>\n",
       "      <td>598.75</td>\n",
       "    </tr>\n",
       "    <tr>\n",
       "      <th>Fighting</th>\n",
       "      <td>201.10</td>\n",
       "      <td>92.66</td>\n",
       "      <td>60.49</td>\n",
       "      <td>34.91</td>\n",
       "      <td>389.10</td>\n",
       "    </tr>\n",
       "    <tr>\n",
       "      <th>Simulation</th>\n",
       "      <td>177.07</td>\n",
       "      <td>110.99</td>\n",
       "      <td>57.83</td>\n",
       "      <td>30.98</td>\n",
       "      <td>377.13</td>\n",
       "    </tr>\n",
       "    <tr>\n",
       "      <th>Adventure</th>\n",
       "      <td>92.39</td>\n",
       "      <td>57.33</td>\n",
       "      <td>44.78</td>\n",
       "      <td>16.28</td>\n",
       "      <td>211.01</td>\n",
       "    </tr>\n",
       "    <tr>\n",
       "      <th>Strategy</th>\n",
       "      <td>NaN</td>\n",
       "      <td>NaN</td>\n",
       "      <td>44.04</td>\n",
       "      <td>NaN</td>\n",
       "      <td>NaN</td>\n",
       "    </tr>\n",
       "  </tbody>\n",
       "</table>\n",
       "</div>"
      ],
      "text/plain": [
       "              NA_Sales  EU_Sales  JP_Sales  Other_Sales  Global_Sales\n",
       "Action          811.01    508.39    143.72       183.71       1647.79\n",
       "Sports          651.40    366.08    100.27       131.76       1249.94\n",
       "Shooter         517.22    303.68       NaN       100.51        948.59\n",
       "Misc            393.03    210.54     96.73        73.68        774.59\n",
       "Racing          340.62    230.59     42.76        75.40        689.59\n",
       "Role-Playing    323.30    187.12    298.98        57.47        867.00\n",
       "Platform        313.77    168.09     70.63        45.92        598.75\n",
       "Fighting        201.10     92.66     60.49        34.91        389.10\n",
       "Simulation      177.07    110.99     57.83        30.98        377.13\n",
       "Adventure        92.39     57.33     44.78        16.28        211.01\n",
       "Strategy           NaN       NaN     44.04          NaN           NaN"
      ]
     },
     "execution_count": 33,
     "metadata": {},
     "output_type": "execute_result"
    }
   ],
   "source": [
    "df_Genre"
   ]
  },
  {
   "cell_type": "code",
   "execution_count": 34,
   "metadata": {},
   "outputs": [],
   "source": [
    "# One hot encoding the 'Genre' feature:\n",
    "Genre = pd.get_dummies(df['Genre'],drop_first=True)"
   ]
  },
  {
   "cell_type": "code",
   "execution_count": 35,
   "metadata": {},
   "outputs": [],
   "source": [
    "# Adding the dummies to the original dataframe \n",
    "df = pd.concat([df,Genre],axis=1)"
   ]
  },
  {
   "cell_type": "code",
   "execution_count": 36,
   "metadata": {},
   "outputs": [],
   "source": [
    "# Dropping the 'Genre' feature\n",
    "df.drop('Genre',axis=1,inplace=True)"
   ]
  },
  {
   "cell_type": "markdown",
   "metadata": {},
   "source": [
    "Exploring the Publisher feature"
   ]
  },
  {
   "cell_type": "code",
   "execution_count": 37,
   "metadata": {},
   "outputs": [
    {
     "data": {
      "text/plain": [
       "Electronic Arts                 1325\n",
       "Activision                       938\n",
       "Ubisoft                          917\n",
       "Namco Bandai Games               884\n",
       "Konami Digital Entertainment     787\n",
       "                                ... \n",
       "Xing Entertainment                 1\n",
       "Navarre Corp                       1\n",
       "Cygames                            1\n",
       "RED Entertainment                  1\n",
       "Paon Corporation                   1\n",
       "Name: Publisher, Length: 527, dtype: int64"
      ]
     },
     "execution_count": 37,
     "metadata": {},
     "output_type": "execute_result"
    }
   ],
   "source": [
    "# Finding out all unique 'Publisher'(s)\n",
    "df['Publisher'].value_counts()"
   ]
  },
  {
   "cell_type": "code",
   "execution_count": 38,
   "metadata": {},
   "outputs": [
    {
     "data": {
      "text/plain": [
       "<matplotlib.axes._subplots.AxesSubplot at 0x1955fa3fe48>"
      ]
     },
     "execution_count": 38,
     "metadata": {},
     "output_type": "execute_result"
    },
    {
     "data": {
      "image/png": "[encoded data removed]",
      "text/plain": [
       "<Figure size 1008x360 with 1 Axes>"
      ]
     },
     "metadata": {
      "needs_background": "light"
     },
     "output_type": "display_data"
    }
   ],
   "source": [
    "# We see that there are 578 unique values in this feature. Plotting it to explore more information.\n",
    "df['Publisher'].value_counts().plot.hist(bins = 100,figsize = (14,5))"
   ]
  },
  {
   "cell_type": "code",
   "execution_count": 39,
   "metadata": {},
   "outputs": [
    {
     "data": {
      "text/plain": [
       "<matplotlib.axes._subplots.AxesSubplot at 0x1955fbde2e8>"
      ]
     },
     "execution_count": 39,
     "metadata": {},
     "output_type": "execute_result"
    },
    {
     "data": {
      "image/png": "[encoded data removed]",
      "text/plain": [
       "<Figure size 432x288 with 1 Axes>"
      ]
     },
     "metadata": {
      "needs_background": "light"
     },
     "output_type": "display_data"
    }
   ],
   "source": [
    "# Identifying the top 25 Publishers.\n",
    "t = df[['Publisher','Global_Sales']].groupby('Publisher').sum().sort_values('Global_Sales',ascending = False).head(25)\n",
    "t.plot()"
   ]
  },
  {
   "cell_type": "code",
   "execution_count": 40,
   "metadata": {},
   "outputs": [
    {
     "name": "stdout",
     "output_type": "stream",
     "text": [
      "Top 25 publishers (out of 527 ) capture 89.0 % of market share in our sample\n"
     ]
    }
   ],
   "source": [
    "print('Top', len(t) ,'publishers (out of', df['Publisher'].nunique(),') capture', round(t['Global_Sales'].sum()/df['Global_Sales'].sum()*100),'% of market share in our sample')"
   ]
  },
  {
   "cell_type": "code",
   "execution_count": 41,
   "metadata": {},
   "outputs": [],
   "source": [
    "# We rename all publishers (apart from top 10) as 'other' and then create dummy variables with this feature.\n",
    "\n",
    "def rename_Publisher(Publisher):\n",
    "    if Publisher in t.reset_index()['Publisher'].values:\n",
    "        return Publisher\n",
    "    else:\n",
    "        return 'Other'"
   ]
  },
  {
   "cell_type": "code",
   "execution_count": 42,
   "metadata": {},
   "outputs": [],
   "source": [
    "df['Publisher'] = df['Publisher'].apply(rename_Publisher)"
   ]
  },
  {
   "cell_type": "code",
   "execution_count": 43,
   "metadata": {},
   "outputs": [],
   "source": [
    "#Creating dummy variables\n",
    "publisher_dummy = pd.get_dummies(df['Publisher'],drop_first=True)\n",
    "df = pd.concat([df,publisher_dummy],axis=1)"
   ]
  },
  {
   "cell_type": "code",
   "execution_count": 44,
   "metadata": {},
   "outputs": [],
   "source": [
    "#Dropping original Publisher column\n",
    "#Instead of drop first, we are dropping the 'Other variable' to remove multicollinearity\n",
    "df.drop(['Publisher','Other'],axis=1,inplace = True)"
   ]
  },
  {
   "cell_type": "code",
   "execution_count": 45,
   "metadata": {},
   "outputs": [],
   "source": [
    "# Dropping EU_Sales,JP_Sales and Other_Sales\n",
    "\n",
    "df.drop(['EU_Sales','JP_Sales','Other_Sales'],axis=1,inplace = True)"
   ]
  },
  {
   "cell_type": "markdown",
   "metadata": {},
   "source": [
    "Exploring our Target Variable"
   ]
  },
  {
   "cell_type": "code",
   "execution_count": 46,
   "metadata": {},
   "outputs": [
    {
     "data": {
      "text/plain": [
       "<matplotlib.axes._subplots.AxesSubplot at 0x1955fbf0320>"
      ]
     },
     "execution_count": 46,
     "metadata": {},
     "output_type": "execute_result"
    },
    {
     "data": {
      "image/png": "[encoded data removed]",
      "text/plain": [
       "<Figure size 432x288 with 1 Axes>"
      ]
     },
     "metadata": {
      "needs_background": "light"
     },
     "output_type": "display_data"
    }
   ],
   "source": [
    "# Checking out the spread of our target variable ( Global_Sales)\n",
    "sns.distplot(df['Global_Sales'],bins=100)"
   ]
  },
  {
   "cell_type": "code",
   "execution_count": 47,
   "metadata": {},
   "outputs": [
    {
     "data": {
      "text/html": [
       "<div>\n",
       "<style scoped>\n",
       "    .dataframe tbody tr th:only-of-type {\n",
       "        vertical-align: middle;\n",
       "    }\n",
       "\n",
       "    .dataframe tbody tr th {\n",
       "        vertical-align: top;\n",
       "    }\n",
       "\n",
       "    .dataframe thead th {\n",
       "        text-align: right;\n",
       "    }\n",
       "</style>\n",
       "<table border=\"1\" class=\"dataframe\">\n",
       "  <thead>\n",
       "    <tr style=\"text-align: right;\">\n",
       "      <th></th>\n",
       "      <th>Year</th>\n",
       "      <th>NA_Sales</th>\n",
       "      <th>Global_Sales</th>\n",
       "      <th>DS</th>\n",
       "      <th>GBA</th>\n",
       "      <th>GC</th>\n",
       "      <th>N64</th>\n",
       "      <th>PC</th>\n",
       "      <th>PS</th>\n",
       "      <th>PS2</th>\n",
       "      <th>...</th>\n",
       "      <th>Nintendo</th>\n",
       "      <th>Sega</th>\n",
       "      <th>Sony Computer Entertainment</th>\n",
       "      <th>Square Enix</th>\n",
       "      <th>THQ</th>\n",
       "      <th>Take-Two Interactive</th>\n",
       "      <th>Tecmo Koei</th>\n",
       "      <th>Ubisoft</th>\n",
       "      <th>Vivendi Games</th>\n",
       "      <th>Warner Bros. Interactive Entertainment</th>\n",
       "    </tr>\n",
       "  </thead>\n",
       "  <tbody>\n",
       "    <tr>\n",
       "      <th>count</th>\n",
       "      <td>184.000000</td>\n",
       "      <td>184.000000</td>\n",
       "      <td>184.000000</td>\n",
       "      <td>184.000000</td>\n",
       "      <td>184.000000</td>\n",
       "      <td>184.000000</td>\n",
       "      <td>184.000000</td>\n",
       "      <td>184.000000</td>\n",
       "      <td>184.000000</td>\n",
       "      <td>184.000000</td>\n",
       "      <td>...</td>\n",
       "      <td>184.000000</td>\n",
       "      <td>184.000000</td>\n",
       "      <td>184.000000</td>\n",
       "      <td>184.000000</td>\n",
       "      <td>184.0</td>\n",
       "      <td>184.000000</td>\n",
       "      <td>184.0</td>\n",
       "      <td>184.000000</td>\n",
       "      <td>184.0</td>\n",
       "      <td>184.000000</td>\n",
       "    </tr>\n",
       "    <tr>\n",
       "      <th>mean</th>\n",
       "      <td>2006.679348</td>\n",
       "      <td>4.457065</td>\n",
       "      <td>9.907174</td>\n",
       "      <td>0.103261</td>\n",
       "      <td>0.038043</td>\n",
       "      <td>0.016304</td>\n",
       "      <td>0.038043</td>\n",
       "      <td>0.021739</td>\n",
       "      <td>0.092391</td>\n",
       "      <td>0.092391</td>\n",
       "      <td>...</td>\n",
       "      <td>0.353261</td>\n",
       "      <td>0.010870</td>\n",
       "      <td>0.092391</td>\n",
       "      <td>0.016304</td>\n",
       "      <td>0.0</td>\n",
       "      <td>0.070652</td>\n",
       "      <td>0.0</td>\n",
       "      <td>0.048913</td>\n",
       "      <td>0.0</td>\n",
       "      <td>0.005435</td>\n",
       "    </tr>\n",
       "    <tr>\n",
       "      <th>std</th>\n",
       "      <td>5.349062</td>\n",
       "      <td>3.954665</td>\n",
       "      <td>7.971070</td>\n",
       "      <td>0.305130</td>\n",
       "      <td>0.191823</td>\n",
       "      <td>0.126989</td>\n",
       "      <td>0.191823</td>\n",
       "      <td>0.146228</td>\n",
       "      <td>0.290368</td>\n",
       "      <td>0.290368</td>\n",
       "      <td>...</td>\n",
       "      <td>0.479287</td>\n",
       "      <td>0.103972</td>\n",
       "      <td>0.290368</td>\n",
       "      <td>0.126989</td>\n",
       "      <td>0.0</td>\n",
       "      <td>0.256942</td>\n",
       "      <td>0.0</td>\n",
       "      <td>0.216275</td>\n",
       "      <td>0.0</td>\n",
       "      <td>0.073721</td>\n",
       "    </tr>\n",
       "    <tr>\n",
       "      <th>min</th>\n",
       "      <td>1996.000000</td>\n",
       "      <td>0.070000</td>\n",
       "      <td>5.010000</td>\n",
       "      <td>0.000000</td>\n",
       "      <td>0.000000</td>\n",
       "      <td>0.000000</td>\n",
       "      <td>0.000000</td>\n",
       "      <td>0.000000</td>\n",
       "      <td>0.000000</td>\n",
       "      <td>0.000000</td>\n",
       "      <td>...</td>\n",
       "      <td>0.000000</td>\n",
       "      <td>0.000000</td>\n",
       "      <td>0.000000</td>\n",
       "      <td>0.000000</td>\n",
       "      <td>0.0</td>\n",
       "      <td>0.000000</td>\n",
       "      <td>0.0</td>\n",
       "      <td>0.000000</td>\n",
       "      <td>0.0</td>\n",
       "      <td>0.000000</td>\n",
       "    </tr>\n",
       "    <tr>\n",
       "      <th>25%</th>\n",
       "      <td>2002.750000</td>\n",
       "      <td>2.612500</td>\n",
       "      <td>5.735000</td>\n",
       "      <td>0.000000</td>\n",
       "      <td>0.000000</td>\n",
       "      <td>0.000000</td>\n",
       "      <td>0.000000</td>\n",
       "      <td>0.000000</td>\n",
       "      <td>0.000000</td>\n",
       "      <td>0.000000</td>\n",
       "      <td>...</td>\n",
       "      <td>0.000000</td>\n",
       "      <td>0.000000</td>\n",
       "      <td>0.000000</td>\n",
       "      <td>0.000000</td>\n",
       "      <td>0.0</td>\n",
       "      <td>0.000000</td>\n",
       "      <td>0.0</td>\n",
       "      <td>0.000000</td>\n",
       "      <td>0.0</td>\n",
       "      <td>0.000000</td>\n",
       "    </tr>\n",
       "    <tr>\n",
       "      <th>50%</th>\n",
       "      <td>2008.000000</td>\n",
       "      <td>3.365000</td>\n",
       "      <td>7.215000</td>\n",
       "      <td>0.000000</td>\n",
       "      <td>0.000000</td>\n",
       "      <td>0.000000</td>\n",
       "      <td>0.000000</td>\n",
       "      <td>0.000000</td>\n",
       "      <td>0.000000</td>\n",
       "      <td>0.000000</td>\n",
       "      <td>...</td>\n",
       "      <td>0.000000</td>\n",
       "      <td>0.000000</td>\n",
       "      <td>0.000000</td>\n",
       "      <td>0.000000</td>\n",
       "      <td>0.0</td>\n",
       "      <td>0.000000</td>\n",
       "      <td>0.0</td>\n",
       "      <td>0.000000</td>\n",
       "      <td>0.0</td>\n",
       "      <td>0.000000</td>\n",
       "    </tr>\n",
       "    <tr>\n",
       "      <th>75%</th>\n",
       "      <td>2011.000000</td>\n",
       "      <td>5.102500</td>\n",
       "      <td>10.830000</td>\n",
       "      <td>0.000000</td>\n",
       "      <td>0.000000</td>\n",
       "      <td>0.000000</td>\n",
       "      <td>0.000000</td>\n",
       "      <td>0.000000</td>\n",
       "      <td>0.000000</td>\n",
       "      <td>0.000000</td>\n",
       "      <td>...</td>\n",
       "      <td>1.000000</td>\n",
       "      <td>0.000000</td>\n",
       "      <td>0.000000</td>\n",
       "      <td>0.000000</td>\n",
       "      <td>0.0</td>\n",
       "      <td>0.000000</td>\n",
       "      <td>0.0</td>\n",
       "      <td>0.000000</td>\n",
       "      <td>0.0</td>\n",
       "      <td>0.000000</td>\n",
       "    </tr>\n",
       "    <tr>\n",
       "      <th>max</th>\n",
       "      <td>2015.000000</td>\n",
       "      <td>41.490000</td>\n",
       "      <td>82.740000</td>\n",
       "      <td>1.000000</td>\n",
       "      <td>1.000000</td>\n",
       "      <td>1.000000</td>\n",
       "      <td>1.000000</td>\n",
       "      <td>1.000000</td>\n",
       "      <td>1.000000</td>\n",
       "      <td>1.000000</td>\n",
       "      <td>...</td>\n",
       "      <td>1.000000</td>\n",
       "      <td>1.000000</td>\n",
       "      <td>1.000000</td>\n",
       "      <td>1.000000</td>\n",
       "      <td>0.0</td>\n",
       "      <td>1.000000</td>\n",
       "      <td>0.0</td>\n",
       "      <td>1.000000</td>\n",
       "      <td>0.0</td>\n",
       "      <td>1.000000</td>\n",
       "    </tr>\n",
       "  </tbody>\n",
       "</table>\n",
       "<p>8 rows × 52 columns</p>\n",
       "</div>"
      ],
      "text/plain": [
       "              Year    NA_Sales  Global_Sales          DS         GBA  \\\n",
       "count   184.000000  184.000000    184.000000  184.000000  184.000000   \n",
       "mean   2006.679348    4.457065      9.907174    0.103261    0.038043   \n",
       "std       5.349062    3.954665      7.971070    0.305130    0.191823   \n",
       "min    1996.000000    0.070000      5.010000    0.000000    0.000000   \n",
       "25%    2002.750000    2.612500      5.735000    0.000000    0.000000   \n",
       "50%    2008.000000    3.365000      7.215000    0.000000    0.000000   \n",
       "75%    2011.000000    5.102500     10.830000    0.000000    0.000000   \n",
       "max    2015.000000   41.490000     82.740000    1.000000    1.000000   \n",
       "\n",
       "               GC         N64          PC          PS         PS2  ...  \\\n",
       "count  184.000000  184.000000  184.000000  184.000000  184.000000  ...   \n",
       "mean     0.016304    0.038043    0.021739    0.092391    0.092391  ...   \n",
       "std      0.126989    0.191823    0.146228    0.290368    0.290368  ...   \n",
       "min      0.000000    0.000000    0.000000    0.000000    0.000000  ...   \n",
       "25%      0.000000    0.000000    0.000000    0.000000    0.000000  ...   \n",
       "50%      0.000000    0.000000    0.000000    0.000000    0.000000  ...   \n",
       "75%      0.000000    0.000000    0.000000    0.000000    0.000000  ...   \n",
       "max      1.000000    1.000000    1.000000    1.000000    1.000000  ...   \n",
       "\n",
       "         Nintendo        Sega  Sony Computer Entertainment  Square Enix  \\\n",
       "count  184.000000  184.000000                   184.000000   184.000000   \n",
       "mean     0.353261    0.010870                     0.092391     0.016304   \n",
       "std      0.479287    0.103972                     0.290368     0.126989   \n",
       "min      0.000000    0.000000                     0.000000     0.000000   \n",
       "25%      0.000000    0.000000                     0.000000     0.000000   \n",
       "50%      0.000000    0.000000                     0.000000     0.000000   \n",
       "75%      1.000000    0.000000                     0.000000     0.000000   \n",
       "max      1.000000    1.000000                     1.000000     1.000000   \n",
       "\n",
       "         THQ  Take-Two Interactive  Tecmo Koei     Ubisoft  Vivendi Games  \\\n",
       "count  184.0            184.000000       184.0  184.000000          184.0   \n",
       "mean     0.0              0.070652         0.0    0.048913            0.0   \n",
       "std      0.0              0.256942         0.0    0.216275            0.0   \n",
       "min      0.0              0.000000         0.0    0.000000            0.0   \n",
       "25%      0.0              0.000000         0.0    0.000000            0.0   \n",
       "50%      0.0              0.000000         0.0    0.000000            0.0   \n",
       "75%      0.0              0.000000         0.0    0.000000            0.0   \n",
       "max      0.0              1.000000         0.0    1.000000            0.0   \n",
       "\n",
       "       Warner Bros. Interactive Entertainment  \n",
       "count                              184.000000  \n",
       "mean                                 0.005435  \n",
       "std                                  0.073721  \n",
       "min                                  0.000000  \n",
       "25%                                  0.000000  \n",
       "50%                                  0.000000  \n",
       "75%                                  0.000000  \n",
       "max                                  1.000000  \n",
       "\n",
       "[8 rows x 52 columns]"
      ]
     },
     "execution_count": 47,
     "metadata": {},
     "output_type": "execute_result"
    }
   ],
   "source": [
    "# Let's check out dataset where global sales is more than 5\n",
    "\n",
    "df[df['Global_Sales']>5].describe()"
   ]
  },
  {
   "cell_type": "code",
   "execution_count": 48,
   "metadata": {},
   "outputs": [
    {
     "name": "stdout",
     "output_type": "stream",
     "text": [
      "Compared to our data of 15622 rows. The subest of data with Global_Sales > 5 is 1.18 %\n"
     ]
    }
   ],
   "source": [
    "print('Compared to our data of',len(df),'rows. The subest of data with Global_Sales > 5 is',round(len(df[df['Global_Sales']>5])/len(df)*100,2),'%')"
   ]
  },
  {
   "cell_type": "code",
   "execution_count": 49,
   "metadata": {},
   "outputs": [],
   "source": [
    "#Let's reset out target data after removing all global_sales points >5\n",
    "\n",
    "df = df[df['Global_Sales']<5]"
   ]
  },
  {
   "cell_type": "code",
   "execution_count": 50,
   "metadata": {},
   "outputs": [
    {
     "name": "stdout",
     "output_type": "stream",
     "text": [
      "The new dataset has 15436 rows\n"
     ]
    }
   ],
   "source": [
    "print('The new dataset has',len(df),'rows')"
   ]
  },
  {
   "cell_type": "code",
   "execution_count": 51,
   "metadata": {},
   "outputs": [
    {
     "data": {
      "text/plain": [
       "<matplotlib.axes._subplots.AxesSubplot at 0x19560dd8f98>"
      ]
     },
     "execution_count": 51,
     "metadata": {},
     "output_type": "execute_result"
    },
    {
     "data": {
      "image/png": "[encoded data removed]",
      "text/plain": [
       "<Figure size 432x288 with 1 Axes>"
      ]
     },
     "metadata": {
      "needs_background": "light"
     },
     "output_type": "display_data"
    }
   ],
   "source": [
    "# Let's plot and see if removal of records where Global_sales points > 5 changes our Global_Sale distribution\n",
    "sns.distplot(df['Global_Sales'],bins = 100)"
   ]
  },
  {
   "cell_type": "code",
   "execution_count": 52,
   "metadata": {},
   "outputs": [
    {
     "name": "stdout",
     "output_type": "stream",
     "text": [
      "The data has a skewness of 3.29\n",
      "The data has a kurtosis of 13.1\n"
     ]
    }
   ],
   "source": [
    "# There is improvement but the target variable still doesn't appear normal and is skewed to the left.\n",
    "\n",
    "from scipy.stats import skew,kurtosis\n",
    "\n",
    "print('The data has a skewness of',round(skew(df['Global_Sales']),2))\n",
    "print('The data has a kurtosis of',round(kurtosis(df['Global_Sales']),2))"
   ]
  },
  {
   "cell_type": "code",
   "execution_count": 53,
   "metadata": {},
   "outputs": [
    {
     "name": "stdout",
     "output_type": "stream",
     "text": [
      "<class 'pandas.core.frame.DataFrame'>\n",
      "Int64Index: 15436 entries, 207 to 16597\n",
      "Data columns (total 52 columns):\n",
      " #   Column                                  Non-Null Count  Dtype  \n",
      "---  ------                                  --------------  -----  \n",
      " 0   Year                                    15436 non-null  float64\n",
      " 1   NA_Sales                                15436 non-null  float64\n",
      " 2   Global_Sales                            15436 non-null  float64\n",
      " 3   DS                                      15436 non-null  uint8  \n",
      " 4   GBA                                     15436 non-null  uint8  \n",
      " 5   GC                                      15436 non-null  uint8  \n",
      " 6   N64                                     15436 non-null  uint8  \n",
      " 7   PC                                      15436 non-null  uint8  \n",
      " 8   PS                                      15436 non-null  uint8  \n",
      " 9   PS2                                     15436 non-null  uint8  \n",
      " 10  PS3                                     15436 non-null  uint8  \n",
      " 11  PS4                                     15436 non-null  uint8  \n",
      " 12  PSP                                     15436 non-null  uint8  \n",
      " 13  Wii                                     15436 non-null  uint8  \n",
      " 14  X360                                    15436 non-null  uint8  \n",
      " 15  XB                                      15436 non-null  uint8  \n",
      " 16  XOne                                    15436 non-null  uint8  \n",
      " 17  Adventure                               15436 non-null  uint8  \n",
      " 18  Fighting                                15436 non-null  uint8  \n",
      " 19  Misc                                    15436 non-null  uint8  \n",
      " 20  Platform                                15436 non-null  uint8  \n",
      " 21  Puzzle                                  15436 non-null  uint8  \n",
      " 22  Racing                                  15436 non-null  uint8  \n",
      " 23  Role-Playing                            15436 non-null  uint8  \n",
      " 24  Shooter                                 15436 non-null  uint8  \n",
      " 25  Simulation                              15436 non-null  uint8  \n",
      " 26  Sports                                  15436 non-null  uint8  \n",
      " 27  Strategy                                15436 non-null  uint8  \n",
      " 28  Acclaim Entertainment                   15436 non-null  uint8  \n",
      " 29  Activision                              15436 non-null  uint8  \n",
      " 30  Atari                                   15436 non-null  uint8  \n",
      " 31  Bethesda Softworks                      15436 non-null  uint8  \n",
      " 32  Capcom                                  15436 non-null  uint8  \n",
      " 33  Codemasters                             15436 non-null  uint8  \n",
      " 34  Disney Interactive Studios              15436 non-null  uint8  \n",
      " 35  Eidos Interactive                       15436 non-null  uint8  \n",
      " 36  Electronic Arts                         15436 non-null  uint8  \n",
      " 37  Konami Digital Entertainment            15436 non-null  uint8  \n",
      " 38  LucasArts                               15436 non-null  uint8  \n",
      " 39  Microsoft Game Studios                  15436 non-null  uint8  \n",
      " 40  Midway Games                            15436 non-null  uint8  \n",
      " 41  Namco Bandai Games                      15436 non-null  uint8  \n",
      " 42  Nintendo                                15436 non-null  uint8  \n",
      " 43  Sega                                    15436 non-null  uint8  \n",
      " 44  Sony Computer Entertainment             15436 non-null  uint8  \n",
      " 45  Square Enix                             15436 non-null  uint8  \n",
      " 46  THQ                                     15436 non-null  uint8  \n",
      " 47  Take-Two Interactive                    15436 non-null  uint8  \n",
      " 48  Tecmo Koei                              15436 non-null  uint8  \n",
      " 49  Ubisoft                                 15436 non-null  uint8  \n",
      " 50  Vivendi Games                           15436 non-null  uint8  \n",
      " 51  Warner Bros. Interactive Entertainment  15436 non-null  uint8  \n",
      "dtypes: float64(3), uint8(49)\n",
      "memory usage: 1.2 MB\n"
     ]
    }
   ],
   "source": [
    "# Viewing our final dataframe\n",
    "df.info()"
   ]
  },
  {
   "cell_type": "code",
   "execution_count": 54,
   "metadata": {},
   "outputs": [
    {
     "name": "stdout",
     "output_type": "stream",
     "text": [
      "We have removed 7.0 % data from the dataset to treat extreme outliers\n"
     ]
    }
   ],
   "source": [
    "print('We have removed', round((100-len(df)/16598*100),2),'% data from the dataset to treat extreme outliers' )"
   ]
  },
  {
   "cell_type": "markdown",
   "metadata": {},
   "source": [
    "# Setting up train and test set"
   ]
  },
  {
   "cell_type": "code",
   "execution_count": 55,
   "metadata": {},
   "outputs": [],
   "source": [
    "X = df.drop(['Global_Sales'],axis=1)\n",
    "y = df['Global_Sales']"
   ]
  },
  {
   "cell_type": "code",
   "execution_count": 56,
   "metadata": {},
   "outputs": [],
   "source": [
    "from sklearn.model_selection import train_test_split"
   ]
  },
  {
   "cell_type": "code",
   "execution_count": 57,
   "metadata": {},
   "outputs": [],
   "source": [
    "X_train, X_test, y_train, y_test = train_test_split(X, y, test_size=0.3, random_state=42)"
   ]
  },
  {
   "cell_type": "markdown",
   "metadata": {},
   "source": [
    "# Running Linear Regression and testing accuracy"
   ]
  },
  {
   "cell_type": "code",
   "execution_count": 58,
   "metadata": {},
   "outputs": [],
   "source": [
    "from sklearn.linear_model import LinearRegression"
   ]
  },
  {
   "cell_type": "code",
   "execution_count": 59,
   "metadata": {},
   "outputs": [],
   "source": [
    "lm = LinearRegression()"
   ]
  },
  {
   "cell_type": "code",
   "execution_count": 60,
   "metadata": {},
   "outputs": [
    {
     "data": {
      "text/plain": [
       "LinearRegression()"
      ]
     },
     "execution_count": 60,
     "metadata": {},
     "output_type": "execute_result"
    }
   ],
   "source": [
    "lm.fit(X_train,y_train)"
   ]
  },
  {
   "cell_type": "code",
   "execution_count": 61,
   "metadata": {},
   "outputs": [
    {
     "data": {
      "text/plain": [
       "5.086662367225386"
      ]
     },
     "execution_count": 61,
     "metadata": {},
     "output_type": "execute_result"
    }
   ],
   "source": [
    "lm.intercept_"
   ]
  },
  {
   "cell_type": "code",
   "execution_count": 62,
   "metadata": {},
   "outputs": [
    {
     "data": {
      "text/html": [
       "<div>\n",
       "<style scoped>\n",
       "    .dataframe tbody tr th:only-of-type {\n",
       "        vertical-align: middle;\n",
       "    }\n",
       "\n",
       "    .dataframe tbody tr th {\n",
       "        vertical-align: top;\n",
       "    }\n",
       "\n",
       "    .dataframe thead th {\n",
       "        text-align: right;\n",
       "    }\n",
       "</style>\n",
       "<table border=\"1\" class=\"dataframe\">\n",
       "  <thead>\n",
       "    <tr style=\"text-align: right;\">\n",
       "      <th></th>\n",
       "      <th>Coefficient</th>\n",
       "    </tr>\n",
       "  </thead>\n",
       "  <tbody>\n",
       "    <tr>\n",
       "      <th>Year</th>\n",
       "      <td>-0.002491</td>\n",
       "    </tr>\n",
       "    <tr>\n",
       "      <th>NA_Sales</th>\n",
       "      <td>1.569896</td>\n",
       "    </tr>\n",
       "    <tr>\n",
       "      <th>DS</th>\n",
       "      <td>-0.087651</td>\n",
       "    </tr>\n",
       "    <tr>\n",
       "      <th>GBA</th>\n",
       "      <td>-0.144054</td>\n",
       "    </tr>\n",
       "    <tr>\n",
       "      <th>GC</th>\n",
       "      <td>-0.180510</td>\n",
       "    </tr>\n",
       "    <tr>\n",
       "      <th>N64</th>\n",
       "      <td>-0.198697</td>\n",
       "    </tr>\n",
       "    <tr>\n",
       "      <th>PC</th>\n",
       "      <td>-0.027138</td>\n",
       "    </tr>\n",
       "    <tr>\n",
       "      <th>PS</th>\n",
       "      <td>-0.015529</td>\n",
       "    </tr>\n",
       "    <tr>\n",
       "      <th>PS2</th>\n",
       "      <td>0.002713</td>\n",
       "    </tr>\n",
       "    <tr>\n",
       "      <th>PS3</th>\n",
       "      <td>0.065314</td>\n",
       "    </tr>\n",
       "    <tr>\n",
       "      <th>PS4</th>\n",
       "      <td>0.153361</td>\n",
       "    </tr>\n",
       "    <tr>\n",
       "      <th>PSP</th>\n",
       "      <td>-0.028128</td>\n",
       "    </tr>\n",
       "    <tr>\n",
       "      <th>Wii</th>\n",
       "      <td>-0.094731</td>\n",
       "    </tr>\n",
       "    <tr>\n",
       "      <th>X360</th>\n",
       "      <td>-0.094589</td>\n",
       "    </tr>\n",
       "    <tr>\n",
       "      <th>XB</th>\n",
       "      <td>-0.169431</td>\n",
       "    </tr>\n",
       "    <tr>\n",
       "      <th>XOne</th>\n",
       "      <td>-0.082249</td>\n",
       "    </tr>\n",
       "    <tr>\n",
       "      <th>Adventure</th>\n",
       "      <td>-0.020723</td>\n",
       "    </tr>\n",
       "    <tr>\n",
       "      <th>Fighting</th>\n",
       "      <td>0.007988</td>\n",
       "    </tr>\n",
       "    <tr>\n",
       "      <th>Misc</th>\n",
       "      <td>-0.001544</td>\n",
       "    </tr>\n",
       "    <tr>\n",
       "      <th>Platform</th>\n",
       "      <td>0.001904</td>\n",
       "    </tr>\n",
       "    <tr>\n",
       "      <th>Puzzle</th>\n",
       "      <td>0.002349</td>\n",
       "    </tr>\n",
       "    <tr>\n",
       "      <th>Racing</th>\n",
       "      <td>0.012682</td>\n",
       "    </tr>\n",
       "    <tr>\n",
       "      <th>Role-Playing</th>\n",
       "      <td>0.038733</td>\n",
       "    </tr>\n",
       "    <tr>\n",
       "      <th>Shooter</th>\n",
       "      <td>0.007319</td>\n",
       "    </tr>\n",
       "    <tr>\n",
       "      <th>Simulation</th>\n",
       "      <td>0.008463</td>\n",
       "    </tr>\n",
       "    <tr>\n",
       "      <th>Sports</th>\n",
       "      <td>-0.006275</td>\n",
       "    </tr>\n",
       "    <tr>\n",
       "      <th>Strategy</th>\n",
       "      <td>0.004418</td>\n",
       "    </tr>\n",
       "    <tr>\n",
       "      <th>Acclaim Entertainment</th>\n",
       "      <td>-0.017383</td>\n",
       "    </tr>\n",
       "    <tr>\n",
       "      <th>Activision</th>\n",
       "      <td>-0.013018</td>\n",
       "    </tr>\n",
       "    <tr>\n",
       "      <th>Atari</th>\n",
       "      <td>0.006521</td>\n",
       "    </tr>\n",
       "    <tr>\n",
       "      <th>Bethesda Softworks</th>\n",
       "      <td>0.123673</td>\n",
       "    </tr>\n",
       "    <tr>\n",
       "      <th>Capcom</th>\n",
       "      <td>0.123774</td>\n",
       "    </tr>\n",
       "    <tr>\n",
       "      <th>Codemasters</th>\n",
       "      <td>0.172180</td>\n",
       "    </tr>\n",
       "    <tr>\n",
       "      <th>Disney Interactive Studios</th>\n",
       "      <td>0.031561</td>\n",
       "    </tr>\n",
       "    <tr>\n",
       "      <th>Eidos Interactive</th>\n",
       "      <td>0.074324</td>\n",
       "    </tr>\n",
       "    <tr>\n",
       "      <th>Electronic Arts</th>\n",
       "      <td>0.055532</td>\n",
       "    </tr>\n",
       "    <tr>\n",
       "      <th>Konami Digital Entertainment</th>\n",
       "      <td>0.114462</td>\n",
       "    </tr>\n",
       "    <tr>\n",
       "      <th>LucasArts</th>\n",
       "      <td>0.042628</td>\n",
       "    </tr>\n",
       "    <tr>\n",
       "      <th>Microsoft Game Studios</th>\n",
       "      <td>0.058634</td>\n",
       "    </tr>\n",
       "    <tr>\n",
       "      <th>Midway Games</th>\n",
       "      <td>-0.015753</td>\n",
       "    </tr>\n",
       "    <tr>\n",
       "      <th>Namco Bandai Games</th>\n",
       "      <td>0.075201</td>\n",
       "    </tr>\n",
       "    <tr>\n",
       "      <th>Nintendo</th>\n",
       "      <td>0.327192</td>\n",
       "    </tr>\n",
       "    <tr>\n",
       "      <th>Sega</th>\n",
       "      <td>0.098248</td>\n",
       "    </tr>\n",
       "    <tr>\n",
       "      <th>Sony Computer Entertainment</th>\n",
       "      <td>0.097372</td>\n",
       "    </tr>\n",
       "    <tr>\n",
       "      <th>Square Enix</th>\n",
       "      <td>0.166831</td>\n",
       "    </tr>\n",
       "    <tr>\n",
       "      <th>THQ</th>\n",
       "      <td>0.010845</td>\n",
       "    </tr>\n",
       "    <tr>\n",
       "      <th>Take-Two Interactive</th>\n",
       "      <td>-0.019223</td>\n",
       "    </tr>\n",
       "    <tr>\n",
       "      <th>Tecmo Koei</th>\n",
       "      <td>-0.001514</td>\n",
       "    </tr>\n",
       "    <tr>\n",
       "      <th>Ubisoft</th>\n",
       "      <td>0.050732</td>\n",
       "    </tr>\n",
       "    <tr>\n",
       "      <th>Vivendi Games</th>\n",
       "      <td>-0.018863</td>\n",
       "    </tr>\n",
       "    <tr>\n",
       "      <th>Warner Bros. Interactive Entertainment</th>\n",
       "      <td>0.046746</td>\n",
       "    </tr>\n",
       "  </tbody>\n",
       "</table>\n",
       "</div>"
      ],
      "text/plain": [
       "                                        Coefficient\n",
       "Year                                      -0.002491\n",
       "NA_Sales                                   1.569896\n",
       "DS                                        -0.087651\n",
       "GBA                                       -0.144054\n",
       "GC                                        -0.180510\n",
       "N64                                       -0.198697\n",
       "PC                                        -0.027138\n",
       "PS                                        -0.015529\n",
       "PS2                                        0.002713\n",
       "PS3                                        0.065314\n",
       "PS4                                        0.153361\n",
       "PSP                                       -0.028128\n",
       "Wii                                       -0.094731\n",
       "X360                                      -0.094589\n",
       "XB                                        -0.169431\n",
       "XOne                                      -0.082249\n",
       "Adventure                                 -0.020723\n",
       "Fighting                                   0.007988\n",
       "Misc                                      -0.001544\n",
       "Platform                                   0.001904\n",
       "Puzzle                                     0.002349\n",
       "Racing                                     0.012682\n",
       "Role-Playing                               0.038733\n",
       "Shooter                                    0.007319\n",
       "Simulation                                 0.008463\n",
       "Sports                                    -0.006275\n",
       "Strategy                                   0.004418\n",
       "Acclaim Entertainment                     -0.017383\n",
       "Activision                                -0.013018\n",
       "Atari                                      0.006521\n",
       "Bethesda Softworks                         0.123673\n",
       "Capcom                                     0.123774\n",
       "Codemasters                                0.172180\n",
       "Disney Interactive Studios                 0.031561\n",
       "Eidos Interactive                          0.074324\n",
       "Electronic Arts                            0.055532\n",
       "Konami Digital Entertainment               0.114462\n",
       "LucasArts                                  0.042628\n",
       "Microsoft Game Studios                     0.058634\n",
       "Midway Games                              -0.015753\n",
       "Namco Bandai Games                         0.075201\n",
       "Nintendo                                   0.327192\n",
       "Sega                                       0.098248\n",
       "Sony Computer Entertainment                0.097372\n",
       "Square Enix                                0.166831\n",
       "THQ                                        0.010845\n",
       "Take-Two Interactive                      -0.019223\n",
       "Tecmo Koei                                -0.001514\n",
       "Ubisoft                                    0.050732\n",
       "Vivendi Games                             -0.018863\n",
       "Warner Bros. Interactive Entertainment     0.046746"
      ]
     },
     "execution_count": 62,
     "metadata": {},
     "output_type": "execute_result"
    }
   ],
   "source": [
    "coeff_df = pd.DataFrame(lm.coef_,X.columns,columns=['Coefficient'])\n",
    "coeff_df"
   ]
  },
  {
   "cell_type": "code",
   "execution_count": 63,
   "metadata": {},
   "outputs": [],
   "source": [
    "predict = lm.predict(X_test)"
   ]
  },
  {
   "cell_type": "code",
   "execution_count": 70,
   "metadata": {},
   "outputs": [
    {
     "data": {
      "text/plain": [
       "<matplotlib.axes._subplots.AxesSubplot at 0x19560de5d30>"
      ]
     },
     "execution_count": 70,
     "metadata": {},
     "output_type": "execute_result"
    },
    {
     "data": {
      "image/png": "[encoded data removed]",
      "text/plain": [
       "<Figure size 864x360 with 1 Axes>"
      ]
     },
     "metadata": {
      "needs_background": "light"
     },
     "output_type": "display_data"
    }
   ],
   "source": [
    "plt.figure(figsize=(12,5))\n",
    "sns.scatterplot(y_test,predict)"
   ]
  },
  {
   "cell_type": "code",
   "execution_count": 73,
   "metadata": {},
   "outputs": [
    {
     "data": {
      "image/png": "[encoded data removed]",
      "text/plain": [
       "<Figure size 720x360 with 1 Axes>"
      ]
     },
     "metadata": {
      "needs_background": "light"
     },
     "output_type": "display_data"
    }
   ],
   "source": [
    "#Plotting the residuals in test\n",
    "plt.figure(figsize = (10,5))\n",
    "sns.distplot((y_test-predict),bins=50,color='r');"
   ]
  },
  {
   "cell_type": "code",
   "execution_count": 66,
   "metadata": {},
   "outputs": [],
   "source": [
    "from sklearn import metrics"
   ]
  },
  {
   "cell_type": "code",
   "execution_count": 67,
   "metadata": {},
   "outputs": [
    {
     "name": "stdout",
     "output_type": "stream",
     "text": [
      "MAE: 0.1425954360812039\n",
      "MSE: 0.07463050559443969\n",
      "RMSE: 0.27318584442543814\n",
      "The mean global_sales is: 0.4042\n"
     ]
    }
   ],
   "source": [
    "print('MAE:', metrics.mean_absolute_error(y_test, predict))\n",
    "print('MSE:', metrics.mean_squared_error(y_test, predict))\n",
    "print('RMSE:', np.sqrt(metrics.mean_squared_error(y_test, predict)))\n",
    "print('The mean global_sales is:',round(df['Global_Sales'].mean(),4))"
   ]
  },
  {
   "cell_type": "code",
   "execution_count": 68,
   "metadata": {},
   "outputs": [
    {
     "name": "stdout",
     "output_type": "stream",
     "text": [
      "R-squared for train set is 0.8030171657378105\n",
      "R-squared for test set is 0.824319091736707\n"
     ]
    }
   ],
   "source": [
    "print('R-squared for train set is',lm.score(X_train,y_train))\n",
    "print('R-squared for test set is',lm.score(X_test,y_test))"
   ]
  },
  {
   "cell_type": "markdown",
   "metadata": {},
   "source": [
    "Conclusion : \n",
    "--\n",
    "Although the test has low accuracy score (82% of test data variation is explained by the existing features), it can be imporved with inclusion of additional features or data collection. \n",
    "\n",
    "However, this model still seems to do a moderatly good job of predicting global sales given year of sales,north america sale, platform,genre and publisher for various game titles(names). \n",
    "\n",
    "The model is predicting higher values more inaccurately as indicated by the error metrics and residual graph.\n",
    "\n",
    "For a general purpose model, this analysis did provide some insights onto the Video Game Industry, as noted below.\n",
    "\n",
    "Another point to note from the percentiles is the high variation in data. \n",
    "75% of Global_Sales data falls within 0.47 with a max of ($)5 with outlier removal. \n",
    "More data collection is required for more accurcay.    "
   ]
  },
  {
   "cell_type": "markdown",
   "metadata": {},
   "source": [
    "Favourtie Genre by each Region:\n",
    "---\n",
    "North America : Action\n",
    "\n",
    "European Union : Action\n",
    "\n",
    "Japan : Role-Playing\n",
    "\n",
    "Globally : Action and Sports\n",
    "                    \n",
    "Clearly, Action and Sports are top categories in gaming.\n",
    "Japan has very distinct taste in games. Given it's low correlation with worldwide sales and differentiated preferences, it is safe to assume that a specialized approach is required to capture that market in gaming.\n",
    "Even though NA and EU have intrest in similar Genre, EU leans more towards sports centric games based on EDA of game names.\n",
    "    "
   ]
  },
  {
   "cell_type": "markdown",
   "metadata": {},
   "source": [
    "Top game titles\n",
    "--\n",
    "Every region clearly has very different preferences in games. Not even a single game in top 10 category is liked acorss all regions. Some popular categories of games are -\n",
    "\n",
    "Popular Categories North America:\n",
    "//\n",
    "Wii Sports,\n",
    "Super Mario,\n",
    "Call of Duty,\n",
    "Grand Theft Auto.\n",
    "\n",
    "Popular Categories European Union:\n",
    "//\n",
    "Wii Sports,\n",
    "Grand Theft Auto V,\t\n",
    "Call of Duty,\n",
    "FIFA.\n",
    "\n",
    "Popular Categories Japan\n",
    "//\n",
    "Pokemon (various extensions)."
   ]
  },
  {
   "cell_type": "markdown",
   "metadata": {},
   "source": [
    "We might get back to imporving this analysis some day!"
   ]
  },
  {
   "cell_type": "markdown",
   "metadata": {},
   "source": [
    "# Thanks for viewing!"
   ]
  }
 ],
 "metadata": {
  "kernelspec": {
   "display_name": "Python 3",
   "language": "python",
   "name": "python3"
  },
  "language_info": {
   "codemirror_mode": {
    "name": "ipython",
    "version": 3
   },
   "file_extension": ".py",
   "mimetype": "text/x-python",
   "name": "python",
   "nbconvert_exporter": "python",
   "pygments_lexer": "ipython3",
   "version": "3.7.1"
  }
 },
 "nbformat": 4,
 "nbformat_minor": 4
}

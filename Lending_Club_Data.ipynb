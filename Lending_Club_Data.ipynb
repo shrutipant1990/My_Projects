{
 "cells": [
  {
   "cell_type": "markdown",
   "metadata": {},
   "source": [
    "# Lending Club Loan Default Data"
   ]
  },
  {
   "cell_type": "markdown",
   "metadata": {},
   "source": [
    "We will try to create a classification model that will help Lending Club in deciding if an indvidual would default on repayment or not."
   ]
  },
  {
   "cell_type": "markdown",
   "metadata": {},
   "source": [
    "Description of variables available with Data"
   ]
  },
  {
   "cell_type": "markdown",
   "metadata": {},
   "source": [
    "* loan_amnt\t - The listed amount of the loan applied for by the borrower.\n",
    "* term- The number of payments on the loan. Values are in months and can be either 36 or 60.\n",
    "* int_rate\t- Interest Rate on the loan\n",
    "* installment\t- The monthly payment owed by the borrower if the loan originates.\n",
    "* grade\t- LC assigned loan grade\n",
    "* sub_grade\t- LC assigned loan subgrade\n",
    "* emp_title\t- The job title supplied by the Borrower when applying for the loan.*\n",
    "* emp_length\t- Employment length in years. \n",
    "* home_ownership\t- The home ownership status provided by the borrower \n",
    "* annual_inc\t- The self-reported annual income provided by the borrower during registration.\n",
    "* verification_status\t- Indicates if income was verified by LC, not verified, or if the income source was verified\n",
    "* issue_d\t- The month which the loan was funded\n",
    "* loan_status -\tCurrent status of the loan\n",
    "* purpose \t- A category provided by the borrower for the loan request.\n",
    "* title\t - The loan title provided by the borrower\n",
    "* zip_code\t- The first 3 numbers of the zip code provided by the borrower in the loan application.\n",
    "* addr_state\t- The state provided by the borrower in the loan application\n",
    "* dti\t   - A ratio calculated using the borrower’s total monthly debt payments on the total debt obligations, excluding mortgage and the requested LC loan, divided by the borrower’s self-reported monthly income.\n",
    "* earliest_cr_line\t- The month the borrower's earliest reported credit line was opened\n",
    "* open_acc\t- The number of open credit lines in the borrower's credit file.\n",
    "* pub_rec   \t- Number of derogatory public records\n",
    "* revol_bal\t- Total credit revolving balance\n",
    "* revol_util\t- Revolving line utilization rate, or the amount of credit the borrower is using relative to all available revolving credit.\n",
    "* total_acc\t- The total number of credit lines currently in the borrower's credit file\n",
    "* initial_list_status\t- The initial listing status of the loan. Possible values are – W, F\n",
    "* application_type\t- Indicates whether the loan is an individual application or a joint application with two co-borrowers\n",
    "* mort_acc\t- Number of mortgage accounts.\n",
    "* pub_rec_bankruptcies\t- Number of public record bankruptcies"
   ]
  },
  {
   "cell_type": "code",
   "execution_count": 59,
   "metadata": {},
   "outputs": [],
   "source": [
    "#Importing Libraries\n",
    "\n",
    "import numpy as np\n",
    "import pandas as pd\n",
    "import matplotlib.pyplot as plt\n",
    "import seaborn as sns\n",
    "\n",
    "%matplotlib inline"
   ]
  },
  {
   "cell_type": "code",
   "execution_count": 60,
   "metadata": {},
   "outputs": [],
   "source": [
    "#Importing Data File\n",
    "df = pd.read_csv('lending_club_loan.csv')"
   ]
  },
  {
   "cell_type": "code",
   "execution_count": 61,
   "metadata": {},
   "outputs": [
    {
     "name": "stdout",
     "output_type": "stream",
     "text": [
      "<class 'pandas.core.frame.DataFrame'>\n",
      "RangeIndex: 396030 entries, 0 to 396029\n",
      "Data columns (total 27 columns):\n",
      " #   Column                Non-Null Count   Dtype  \n",
      "---  ------                --------------   -----  \n",
      " 0   loan_amnt             396030 non-null  float64\n",
      " 1   term                  396030 non-null  object \n",
      " 2   int_rate              396030 non-null  float64\n",
      " 3   installment           396030 non-null  float64\n",
      " 4   grade                 396030 non-null  object \n",
      " 5   sub_grade             396030 non-null  object \n",
      " 6   emp_title             373103 non-null  object \n",
      " 7   emp_length            377729 non-null  object \n",
      " 8   home_ownership        396030 non-null  object \n",
      " 9   annual_inc            396030 non-null  float64\n",
      " 10  verification_status   396030 non-null  object \n",
      " 11  issue_d               396030 non-null  object \n",
      " 12  loan_status           396030 non-null  object \n",
      " 13  purpose               396030 non-null  object \n",
      " 14  title                 394275 non-null  object \n",
      " 15  dti                   396030 non-null  float64\n",
      " 16  earliest_cr_line      396030 non-null  object \n",
      " 17  open_acc              396030 non-null  float64\n",
      " 18  pub_rec               396030 non-null  float64\n",
      " 19  revol_bal             396030 non-null  float64\n",
      " 20  revol_util            395754 non-null  float64\n",
      " 21  total_acc             396030 non-null  float64\n",
      " 22  initial_list_status   396030 non-null  object \n",
      " 23  application_type      396030 non-null  object \n",
      " 24  mort_acc              358235 non-null  float64\n",
      " 25  pub_rec_bankruptcies  395495 non-null  float64\n",
      " 26  address               396030 non-null  object \n",
      "dtypes: float64(12), object(15)\n",
      "memory usage: 81.6+ MB\n"
     ]
    }
   ],
   "source": [
    "df.info()"
   ]
  },
  {
   "cell_type": "code",
   "execution_count": 62,
   "metadata": {},
   "outputs": [
    {
     "name": "stdout",
     "output_type": "stream",
     "text": [
      "The % of missing values for each feild in the datset are:\n"
     ]
    },
    {
     "data": {
      "text/plain": [
       "mort_acc                9.54\n",
       "emp_title               5.79\n",
       "emp_length              4.62\n",
       "title                   0.44\n",
       "pub_rec_bankruptcies    0.14\n",
       "revol_util              0.07\n",
       "address                 0.00\n",
       "verification_status     0.00\n",
       "term                    0.00\n",
       "int_rate                0.00\n",
       "installment             0.00\n",
       "grade                   0.00\n",
       "sub_grade               0.00\n",
       "home_ownership          0.00\n",
       "annual_inc              0.00\n",
       "purpose                 0.00\n",
       "issue_d                 0.00\n",
       "loan_status             0.00\n",
       "dti                     0.00\n",
       "earliest_cr_line        0.00\n",
       "open_acc                0.00\n",
       "pub_rec                 0.00\n",
       "revol_bal               0.00\n",
       "total_acc               0.00\n",
       "initial_list_status     0.00\n",
       "application_type        0.00\n",
       "loan_amnt               0.00\n",
       "dtype: float64"
      ]
     },
     "execution_count": 62,
     "metadata": {},
     "output_type": "execute_result"
    }
   ],
   "source": [
    "# % of missing value \n",
    "print('The % of missing values for each feild in the datset are:')\n",
    "round((df.isnull().sum()/len(df)*100),2).sort_values(ascending = False)"
   ]
  },
  {
   "cell_type": "markdown",
   "metadata": {},
   "source": [
    "## EDA"
   ]
  },
  {
   "cell_type": "code",
   "execution_count": 63,
   "metadata": {},
   "outputs": [
    {
     "name": "stdout",
     "output_type": "stream",
     "text": [
      "Fully Paid     318357\n",
      "Charged Off     77673\n",
      "Name: loan_status, dtype: int64\n"
     ]
    },
    {
     "data": {
      "text/plain": [
       "<matplotlib.axes._subplots.AxesSubplot at 0x26dad887c18>"
      ]
     },
     "execution_count": 63,
     "metadata": {},
     "output_type": "execute_result"
    },
    {
     "data": {
      "image/png": "[encoded data removed]",
      "text/plain": [
       "<Figure size 432x288 with 1 Axes>"
      ]
     },
     "metadata": {
      "needs_background": "light"
     },
     "output_type": "display_data"
    }
   ],
   "source": [
    "#Target Variable\n",
    "print(df['loan_status'].value_counts())\n",
    "\n",
    "sns.countplot('loan_status',data=df)"
   ]
  },
  {
   "cell_type": "code",
   "execution_count": 64,
   "metadata": {},
   "outputs": [
    {
     "data": {
      "text/plain": [
       "<matplotlib.axes._subplots.AxesSubplot at 0x26dad597160>"
      ]
     },
     "execution_count": 64,
     "metadata": {},
     "output_type": "execute_result"
    },
    {
     "data": {
      "image/png": "[encoded data removed]",
      "text/plain": [
       "<Figure size 864x360 with 1 Axes>"
      ]
     },
     "metadata": {
      "needs_background": "light"
     },
     "output_type": "display_data"
    }
   ],
   "source": [
    "# Sub order vs target varaible\n",
    "\n",
    "sub_order = sorted(df['sub_grade'].unique())\n",
    "plt.figure(figsize = (12,5))\n",
    "sns.countplot(x = 'sub_grade',data = df,order=sub_order,hue = df['loan_status'],palette='coolwarm')"
   ]
  },
  {
   "cell_type": "code",
   "execution_count": 65,
   "metadata": {},
   "outputs": [
    {
     "data": {
      "text/html": [
       "<div>\n",
       "<style scoped>\n",
       "    .dataframe tbody tr th:only-of-type {\n",
       "        vertical-align: middle;\n",
       "    }\n",
       "\n",
       "    .dataframe tbody tr th {\n",
       "        vertical-align: top;\n",
       "    }\n",
       "\n",
       "    .dataframe thead th {\n",
       "        text-align: right;\n",
       "    }\n",
       "</style>\n",
       "<table border=\"1\" class=\"dataframe\">\n",
       "  <thead>\n",
       "    <tr style=\"text-align: right;\">\n",
       "      <th></th>\n",
       "      <th>loan_amnt</th>\n",
       "      <th>term</th>\n",
       "      <th>int_rate</th>\n",
       "      <th>installment</th>\n",
       "      <th>grade</th>\n",
       "      <th>sub_grade</th>\n",
       "      <th>emp_title</th>\n",
       "      <th>emp_length</th>\n",
       "      <th>home_ownership</th>\n",
       "      <th>annual_inc</th>\n",
       "      <th>...</th>\n",
       "      <th>open_acc</th>\n",
       "      <th>pub_rec</th>\n",
       "      <th>revol_bal</th>\n",
       "      <th>revol_util</th>\n",
       "      <th>total_acc</th>\n",
       "      <th>initial_list_status</th>\n",
       "      <th>application_type</th>\n",
       "      <th>mort_acc</th>\n",
       "      <th>pub_rec_bankruptcies</th>\n",
       "      <th>address</th>\n",
       "    </tr>\n",
       "  </thead>\n",
       "  <tbody>\n",
       "    <tr>\n",
       "      <th>66</th>\n",
       "      <td>15975.0</td>\n",
       "      <td>60 months</td>\n",
       "      <td>24.99</td>\n",
       "      <td>468.80</td>\n",
       "      <td>F</td>\n",
       "      <td>F4</td>\n",
       "      <td>carrier</td>\n",
       "      <td>5 years</td>\n",
       "      <td>MORTGAGE</td>\n",
       "      <td>47000.0</td>\n",
       "      <td>...</td>\n",
       "      <td>10.0</td>\n",
       "      <td>0.0</td>\n",
       "      <td>2049.0</td>\n",
       "      <td>58.5</td>\n",
       "      <td>23.0</td>\n",
       "      <td>w</td>\n",
       "      <td>INDIVIDUAL</td>\n",
       "      <td>1.0</td>\n",
       "      <td>0.0</td>\n",
       "      <td>59681 Christopher Lock\\nNorth Williamtown, UT ...</td>\n",
       "    </tr>\n",
       "    <tr>\n",
       "      <th>87</th>\n",
       "      <td>30000.0</td>\n",
       "      <td>60 months</td>\n",
       "      <td>24.70</td>\n",
       "      <td>875.28</td>\n",
       "      <td>G</td>\n",
       "      <td>G1</td>\n",
       "      <td>Medtronic</td>\n",
       "      <td>5 years</td>\n",
       "      <td>MORTGAGE</td>\n",
       "      <td>187321.0</td>\n",
       "      <td>...</td>\n",
       "      <td>21.0</td>\n",
       "      <td>0.0</td>\n",
       "      <td>54810.0</td>\n",
       "      <td>93.4</td>\n",
       "      <td>52.0</td>\n",
       "      <td>f</td>\n",
       "      <td>INDIVIDUAL</td>\n",
       "      <td>3.0</td>\n",
       "      <td>0.0</td>\n",
       "      <td>25281 Kevin Neck\\nArmstrongton, TN 29597</td>\n",
       "    </tr>\n",
       "    <tr>\n",
       "      <th>96</th>\n",
       "      <td>12625.0</td>\n",
       "      <td>60 months</td>\n",
       "      <td>25.78</td>\n",
       "      <td>376.36</td>\n",
       "      <td>F</td>\n",
       "      <td>F5</td>\n",
       "      <td>Nursing Assistant</td>\n",
       "      <td>7 years</td>\n",
       "      <td>MORTGAGE</td>\n",
       "      <td>43000.0</td>\n",
       "      <td>...</td>\n",
       "      <td>18.0</td>\n",
       "      <td>0.0</td>\n",
       "      <td>19993.0</td>\n",
       "      <td>55.7</td>\n",
       "      <td>31.0</td>\n",
       "      <td>w</td>\n",
       "      <td>INDIVIDUAL</td>\n",
       "      <td>1.0</td>\n",
       "      <td>0.0</td>\n",
       "      <td>522 Melissa Village\\nEast Janice, MT 00813</td>\n",
       "    </tr>\n",
       "    <tr>\n",
       "      <th>97</th>\n",
       "      <td>13400.0</td>\n",
       "      <td>60 months</td>\n",
       "      <td>25.83</td>\n",
       "      <td>399.86</td>\n",
       "      <td>G</td>\n",
       "      <td>G2</td>\n",
       "      <td>DESIGNER</td>\n",
       "      <td>10+ years</td>\n",
       "      <td>MORTGAGE</td>\n",
       "      <td>56000.0</td>\n",
       "      <td>...</td>\n",
       "      <td>23.0</td>\n",
       "      <td>0.0</td>\n",
       "      <td>28845.0</td>\n",
       "      <td>84.5</td>\n",
       "      <td>44.0</td>\n",
       "      <td>w</td>\n",
       "      <td>INDIVIDUAL</td>\n",
       "      <td>6.0</td>\n",
       "      <td>0.0</td>\n",
       "      <td>0326 Jacob Via\\nJacksonstad, MI 93700</td>\n",
       "    </tr>\n",
       "    <tr>\n",
       "      <th>123</th>\n",
       "      <td>30000.0</td>\n",
       "      <td>60 months</td>\n",
       "      <td>23.83</td>\n",
       "      <td>860.09</td>\n",
       "      <td>F</td>\n",
       "      <td>F5</td>\n",
       "      <td>Victorian Senior Care</td>\n",
       "      <td>10+ years</td>\n",
       "      <td>MORTGAGE</td>\n",
       "      <td>72500.0</td>\n",
       "      <td>...</td>\n",
       "      <td>7.0</td>\n",
       "      <td>0.0</td>\n",
       "      <td>6875.0</td>\n",
       "      <td>94.2</td>\n",
       "      <td>32.0</td>\n",
       "      <td>f</td>\n",
       "      <td>INDIVIDUAL</td>\n",
       "      <td>4.0</td>\n",
       "      <td>0.0</td>\n",
       "      <td>8219 Dennis Station Apt. 722\\nBateston, LA 70466</td>\n",
       "    </tr>\n",
       "  </tbody>\n",
       "</table>\n",
       "<p>5 rows × 27 columns</p>\n",
       "</div>"
      ],
      "text/plain": [
       "     loan_amnt        term  int_rate  installment grade sub_grade  \\\n",
       "66     15975.0   60 months     24.99       468.80     F        F4   \n",
       "87     30000.0   60 months     24.70       875.28     G        G1   \n",
       "96     12625.0   60 months     25.78       376.36     F        F5   \n",
       "97     13400.0   60 months     25.83       399.86     G        G2   \n",
       "123    30000.0   60 months     23.83       860.09     F        F5   \n",
       "\n",
       "                 emp_title emp_length home_ownership  annual_inc  ...  \\\n",
       "66                 carrier    5 years       MORTGAGE     47000.0  ...   \n",
       "87               Medtronic    5 years       MORTGAGE    187321.0  ...   \n",
       "96       Nursing Assistant    7 years       MORTGAGE     43000.0  ...   \n",
       "97                DESIGNER  10+ years       MORTGAGE     56000.0  ...   \n",
       "123  Victorian Senior Care  10+ years       MORTGAGE     72500.0  ...   \n",
       "\n",
       "    open_acc pub_rec revol_bal revol_util total_acc  initial_list_status  \\\n",
       "66      10.0     0.0    2049.0       58.5      23.0                    w   \n",
       "87      21.0     0.0   54810.0       93.4      52.0                    f   \n",
       "96      18.0     0.0   19993.0       55.7      31.0                    w   \n",
       "97      23.0     0.0   28845.0       84.5      44.0                    w   \n",
       "123      7.0     0.0    6875.0       94.2      32.0                    f   \n",
       "\n",
       "    application_type  mort_acc  pub_rec_bankruptcies  \\\n",
       "66        INDIVIDUAL       1.0                   0.0   \n",
       "87        INDIVIDUAL       3.0                   0.0   \n",
       "96        INDIVIDUAL       1.0                   0.0   \n",
       "97        INDIVIDUAL       6.0                   0.0   \n",
       "123       INDIVIDUAL       4.0                   0.0   \n",
       "\n",
       "                                               address  \n",
       "66   59681 Christopher Lock\\nNorth Williamtown, UT ...  \n",
       "87            25281 Kevin Neck\\nArmstrongton, TN 29597  \n",
       "96          522 Melissa Village\\nEast Janice, MT 00813  \n",
       "97               0326 Jacob Via\\nJacksonstad, MI 93700  \n",
       "123   8219 Dennis Station Apt. 722\\nBateston, LA 70466  \n",
       "\n",
       "[5 rows x 27 columns]"
      ]
     },
     "execution_count": 65,
     "metadata": {},
     "output_type": "execute_result"
    }
   ],
   "source": [
    "# Exploring 'F' and 'G' sub_grades as the ratio of paid vs unpaid loan is almost equal in these categories\n",
    "df[(df['grade']=='F') | (df['grade']=='G')].head()"
   ]
  },
  {
   "cell_type": "code",
   "execution_count": 66,
   "metadata": {},
   "outputs": [
    {
     "data": {
      "text/plain": [
       "<matplotlib.axes._subplots.AxesSubplot at 0x26dab2bec50>"
      ]
     },
     "execution_count": 66,
     "metadata": {},
     "output_type": "execute_result"
    },
    {
     "data": {
      "image/png": "[encoded data removed]",
      "text/plain": [
       "<Figure size 864x360 with 1 Axes>"
      ]
     },
     "metadata": {
      "needs_background": "light"
     },
     "output_type": "display_data"
    }
   ],
   "source": [
    "# Zooming in on 'F' and 'G' subsections\n",
    "df_fg = df[(df['grade']=='F') | (df['grade']=='G')]\n",
    "sub_order = sorted(df_fg['sub_grade'].unique())\n",
    "plt.figure(figsize = (12,5))\n",
    "sns.countplot(x = 'sub_grade',data = df_fg,hue = 'loan_status',order = sub_order,palette='coolwarm')"
   ]
  },
  {
   "cell_type": "code",
   "execution_count": 67,
   "metadata": {},
   "outputs": [],
   "source": [
    "# Dropping grade as sub grade provides all information from grade\n",
    "df.drop(columns = 'grade',axis=1,inplace = True)"
   ]
  },
  {
   "cell_type": "markdown",
   "metadata": {},
   "source": [
    "\n",
    "# Missing Value Imputation"
   ]
  },
  {
   "cell_type": "markdown",
   "metadata": {},
   "source": [
    "Feature : Mort_acc"
   ]
  },
  {
   "cell_type": "code",
   "execution_count": 68,
   "metadata": {},
   "outputs": [
    {
     "name": "stdout",
     "output_type": "stream",
     "text": [
      "Unique mort_acc nos 33\n"
     ]
    }
   ],
   "source": [
    "print('Unique mort_acc nos',df['mort_acc'].value_counts().count())"
   ]
  },
  {
   "cell_type": "code",
   "execution_count": 69,
   "metadata": {},
   "outputs": [
    {
     "data": {
      "text/plain": [
       "<matplotlib.axes._subplots.AxesSubplot at 0x26daafab6d8>"
      ]
     },
     "execution_count": 69,
     "metadata": {},
     "output_type": "execute_result"
    },
    {
     "data": {
      "image/png": "[encoded data removed]",
      "text/plain": [
       "<Figure size 432x288 with 1 Axes>"
      ]
     },
     "metadata": {},
     "output_type": "display_data"
    }
   ],
   "source": [
    "sns.set_style('darkgrid')\n",
    "df['mort_acc'].plot(kind = 'hist',bins=30)"
   ]
  },
  {
   "cell_type": "code",
   "execution_count": 70,
   "metadata": {},
   "outputs": [],
   "source": [
    "#Imputing median value for missing information\n",
    "df['mort_acc'].fillna(value = df['mort_acc'].median(),inplace = True)"
   ]
  },
  {
   "cell_type": "markdown",
   "metadata": {},
   "source": [
    "Feature : emp_title"
   ]
  },
  {
   "cell_type": "code",
   "execution_count": 71,
   "metadata": {
    "scrolled": true
   },
   "outputs": [
    {
     "data": {
      "text/plain": [
       "Teacher             4389\n",
       "Manager             4250\n",
       "Registered Nurse    1856\n",
       "RN                  1846\n",
       "Supervisor          1830\n",
       "Name: emp_title, dtype: int64"
      ]
     },
     "execution_count": 71,
     "metadata": {},
     "output_type": "execute_result"
    }
   ],
   "source": [
    "# Too many text variables to clean - emp length and income will provide a good profile of an applicant. \n",
    "df['emp_title'].value_counts().head()"
   ]
  },
  {
   "cell_type": "code",
   "execution_count": 72,
   "metadata": {},
   "outputs": [],
   "source": [
    "# Dropping emp_title varaible\n",
    "df.drop('emp_title', axis=1,inplace = True)"
   ]
  },
  {
   "cell_type": "markdown",
   "metadata": {},
   "source": [
    "Feature : emp_length"
   ]
  },
  {
   "cell_type": "code",
   "execution_count": 73,
   "metadata": {},
   "outputs": [
    {
     "data": {
      "text/plain": [
       "<matplotlib.axes._subplots.AxesSubplot at 0x26daaf81ba8>"
      ]
     },
     "execution_count": 73,
     "metadata": {},
     "output_type": "execute_result"
    },
    {
     "data": {
      "image/png": "[encoded data removed]",
      "text/plain": [
       "<Figure size 720x360 with 1 Axes>"
      ]
     },
     "metadata": {},
     "output_type": "display_data"
    }
   ],
   "source": [
    "plt.figure(figsize = (10,5))\n",
    "sns.countplot('emp_length',data = df,hue = 'loan_status')"
   ]
  },
  {
   "cell_type": "code",
   "execution_count": 74,
   "metadata": {},
   "outputs": [
    {
     "data": {
      "text/plain": [
       "emp_length\n",
       "1 year       0.248649\n",
       "10+ years    0.225770\n",
       "2 years      0.239560\n",
       "3 years      0.242593\n",
       "4 years      0.238213\n",
       "5 years      0.237911\n",
       "6 years      0.233341\n",
       "7 years      0.241887\n",
       "8 years      0.249625\n",
       "9 years      0.250735\n",
       "< 1 year     0.260830\n",
       "Name: loan_status, dtype: float64"
      ]
     },
     "execution_count": 74,
     "metadata": {},
     "output_type": "execute_result"
    }
   ],
   "source": [
    "# Ratio between charged off and fully paid\n",
    "emp_chrgdof = df[df['loan_status']=='Charged Off'].groupby('emp_length').count()['loan_status']\n",
    "emp_flypd = df[df['loan_status']=='Fully Paid'].groupby('emp_length').count()['loan_status']\n",
    "\n",
    "emp_chrgdof/emp_flypd"
   ]
  },
  {
   "cell_type": "markdown",
   "metadata": {},
   "source": [
    "No real variation amongst the years. Safe to presume emp_length does not have much influence on loan_status. We will drop this variable"
   ]
  },
  {
   "cell_type": "code",
   "execution_count": 75,
   "metadata": {},
   "outputs": [],
   "source": [
    "# Dropping emp_length\n",
    "df.drop('emp_length',axis=1,inplace = True)"
   ]
  },
  {
   "cell_type": "markdown",
   "metadata": {},
   "source": [
    "Variable :  pub_rec_bankruptcies"
   ]
  },
  {
   "cell_type": "code",
   "execution_count": 76,
   "metadata": {},
   "outputs": [
    {
     "data": {
      "text/plain": [
       "Text(0.5, 1.0, 'pub_rec_bankruptcies')"
      ]
     },
     "execution_count": 76,
     "metadata": {},
     "output_type": "execute_result"
    },
    {
     "data": {
      "image/png": "[encoded data removed]",
      "text/plain": [
       "<Figure size 432x288 with 1 Axes>"
      ]
     },
     "metadata": {},
     "output_type": "display_data"
    }
   ],
   "source": [
    "df['pub_rec_bankruptcies'].value_counts().plot()\n",
    "plt.xlim(0,8)\n",
    "plt.title('pub_rec_bankruptcies')"
   ]
  },
  {
   "cell_type": "code",
   "execution_count": 77,
   "metadata": {},
   "outputs": [
    {
     "data": {
      "text/plain": [
       "Text(0.5, 1.0, 'pub_rec')"
      ]
     },
     "execution_count": 77,
     "metadata": {},
     "output_type": "execute_result"
    },
    {
     "data": {
      "image/png": "[encoded data removed]",
      "text/plain": [
       "<Figure size 432x288 with 1 Axes>"
      ]
     },
     "metadata": {},
     "output_type": "display_data"
    }
   ],
   "source": [
    "df['pub_rec'].value_counts().plot()\n",
    "plt.xlim(0,8)\n",
    "plt.title('pub_rec')"
   ]
  },
  {
   "cell_type": "markdown",
   "metadata": {},
   "source": [
    "# Feature Engineering"
   ]
  },
  {
   "cell_type": "markdown",
   "metadata": {},
   "source": [
    "\n",
    " * Created Zip code variable from address and dropped address. Dummy created for zip code\n",
    "   \n",
    "   \n",
    " * Engineered a new feild - 'credit_history_age' by subtracting earliest credit line year from current year. \n",
    "   \n",
    "   \n",
    " * Turned the following into dummy variables (one hot encoding):\n",
    "        * home_ownership\n",
    "        * verification_status\n",
    "        * purpose\n",
    "        * initial_list_status\n",
    "        * application_type\n",
    "        \n",
    " * Dropped the following:\n",
    "        * title - purpose provides all information required\n",
    "        * open_acc - all information available in total_acc\n",
    "        * pub_rec_bankruptcies - pub_rec captures all this data\n",
    "        * issue_d - to avoid data leakage(we can't have issue date if we don't know the loan status)\n"
   ]
  },
  {
   "cell_type": "code",
   "execution_count": 78,
   "metadata": {},
   "outputs": [],
   "source": [
    "# 'pub_rec_bankruptcies' is a subset of 'pub_rec' ; keeping both variables just adds additional noise. \n",
    "# We will drop 'pub_rec_bankruptcies\n",
    "\n",
    "df.drop('pub_rec_bankruptcies',axis=1,inplace = True)"
   ]
  },
  {
   "cell_type": "code",
   "execution_count": 79,
   "metadata": {},
   "outputs": [],
   "source": [
    "# changing term to integer (removing 'months' text)\n",
    "df['term'] = df['term'].apply(lambda term: int(term[:3]))"
   ]
  },
  {
   "cell_type": "code",
   "execution_count": 80,
   "metadata": {},
   "outputs": [],
   "source": [
    "# Google tells is that the grades represent risk associated with loan - higher grade,lower interest . \n",
    "# We will label encode this variable\n",
    "\n",
    "from sklearn.preprocessing import LabelEncoder\n",
    "lb = LabelEncoder()\n",
    "\n",
    "df['sub_grade'] = lb.fit_transform(df['sub_grade'])"
   ]
  },
  {
   "cell_type": "code",
   "execution_count": 81,
   "metadata": {},
   "outputs": [],
   "source": [
    "# One hot encoding the home_ownership variable:\n",
    "home_ownership = pd.get_dummies(df['home_ownership'],drop_first=True)"
   ]
  },
  {
   "cell_type": "code",
   "execution_count": 82,
   "metadata": {},
   "outputs": [],
   "source": [
    "# Adding to dataframe\n",
    "df = pd.concat([home_ownership,df],axis=1)"
   ]
  },
  {
   "cell_type": "code",
   "execution_count": 83,
   "metadata": {},
   "outputs": [],
   "source": [
    "# Dropping home_ownership from datframe\n",
    "df.drop('home_ownership',axis=1,inplace = True)"
   ]
  },
  {
   "cell_type": "code",
   "execution_count": 84,
   "metadata": {},
   "outputs": [],
   "source": [
    "# One hot encoding the verification_status feature:\n",
    "verification_status = pd.get_dummies(df['verification_status'],drop_first=True)"
   ]
  },
  {
   "cell_type": "code",
   "execution_count": 85,
   "metadata": {},
   "outputs": [],
   "source": [
    "# Adding to dataframe\n",
    "df = pd.concat([verification_status,df],axis=1)\n",
    "\n",
    "# Dropping verification_status from datframe\n",
    "df.drop('verification_status',axis=1,inplace = True)"
   ]
  },
  {
   "cell_type": "code",
   "execution_count": 86,
   "metadata": {},
   "outputs": [],
   "source": [
    "# One hot encoding for this feature\n",
    "purpose = pd.get_dummies(df['purpose'],drop_first=True)"
   ]
  },
  {
   "cell_type": "code",
   "execution_count": 87,
   "metadata": {},
   "outputs": [],
   "source": [
    "# Adding to dataframe\n",
    "df = pd.concat([purpose,df],axis=1)\n",
    "\n",
    "# Dropping purpose from datframe\n",
    "df.drop('purpose',axis=1,inplace = True)"
   ]
  },
  {
   "cell_type": "code",
   "execution_count": 88,
   "metadata": {},
   "outputs": [
    {
     "data": {
      "text/plain": [
       "Debt consolidation                     152472\n",
       "Credit card refinancing                 51487\n",
       "Home improvement                        15264\n",
       "Other                                   12930\n",
       "Debt Consolidation                      11608\n",
       "                                        ...  \n",
       "IT Mgr Needs to Reduce Debt Balance         1\n",
       "Debt Destruction                            1\n",
       "Store card refinance and vacation           1\n",
       "debt consolidTION                           1\n",
       "Combine the rest of my bills                1\n",
       "Name: title, Length: 48817, dtype: int64"
      ]
     },
     "execution_count": 88,
     "metadata": {},
     "output_type": "execute_result"
    }
   ],
   "source": [
    "df['title'].value_counts()"
   ]
  },
  {
   "cell_type": "code",
   "execution_count": 89,
   "metadata": {},
   "outputs": [],
   "source": [
    "#purpose provides a good approximation of title. Dropping 'title' vairble\n",
    "df.drop('title',axis=1, inplace = True)"
   ]
  },
  {
   "cell_type": "code",
   "execution_count": 90,
   "metadata": {},
   "outputs": [],
   "source": [
    "#one hot encoding of 'initial_list_status'\n",
    "initial_list_status = pd.get_dummies(df['initial_list_status'],drop_first=True)"
   ]
  },
  {
   "cell_type": "code",
   "execution_count": 91,
   "metadata": {},
   "outputs": [],
   "source": [
    "# Adding to dataframe\n",
    "df = pd.concat([initial_list_status,df],axis=1)\n",
    "\n",
    "# Dropping intial_list_status from datframe\n",
    "df.drop('initial_list_status',axis=1,inplace = True)"
   ]
  },
  {
   "cell_type": "code",
   "execution_count": 92,
   "metadata": {},
   "outputs": [],
   "source": [
    "# one hot encoding of 'application_type'\n",
    "application_type = pd.get_dummies(df['application_type'],drop_first=True)"
   ]
  },
  {
   "cell_type": "code",
   "execution_count": 93,
   "metadata": {},
   "outputs": [],
   "source": [
    "# Adding to dataframe\n",
    "df = pd.concat([application_type,df],axis=1)\n",
    "\n",
    "# Dropping application_type from datframe\n",
    "df.drop('application_type',axis=1,inplace = True)"
   ]
  },
  {
   "cell_type": "code",
   "execution_count": 94,
   "metadata": {},
   "outputs": [],
   "source": [
    "# Extracting 'zip code' from the address feature"
   ]
  },
  {
   "cell_type": "code",
   "execution_count": 95,
   "metadata": {},
   "outputs": [],
   "source": [
    "# extracting the last valid index for each row using apply-lamda to extract zip code\n",
    "\n",
    "df_add = df['address'].str.split(' ',expand = True)\n",
    "\n",
    "df_add['zip'] = df_add.apply(lambda x: x[x.last_valid_index()],axis=1)"
   ]
  },
  {
   "cell_type": "code",
   "execution_count": 96,
   "metadata": {},
   "outputs": [],
   "source": [
    "#one hot encoding for zip code\n",
    "zip_d = pd.get_dummies(df_add['zip'],drop_first=True)"
   ]
  },
  {
   "cell_type": "code",
   "execution_count": 97,
   "metadata": {},
   "outputs": [],
   "source": [
    "# Adding to dataframe\n",
    "df = pd.concat([zip_d,df],axis=1)"
   ]
  },
  {
   "cell_type": "code",
   "execution_count": 98,
   "metadata": {},
   "outputs": [],
   "source": [
    "# Removing the address feature\n",
    "df.drop('address',axis=1,inplace = True)"
   ]
  },
  {
   "cell_type": "code",
   "execution_count": 99,
   "metadata": {},
   "outputs": [],
   "source": [
    "# Extracting year from credit line\n",
    "df['year'] = df['earliest_cr_line'].apply(lambda x : int(x.split('-')[1]))\n",
    "\n",
    "# subtracting from current year to create a new feature ' credit history age'\n",
    "df['credit_history_age'] =2020 - df['year']"
   ]
  },
  {
   "cell_type": "code",
   "execution_count": 100,
   "metadata": {},
   "outputs": [],
   "source": [
    "# Dropping earliest_cr_line from datframe\n",
    "df.drop('earliest_cr_line',axis=1,inplace = True)"
   ]
  },
  {
   "cell_type": "code",
   "execution_count": 101,
   "metadata": {},
   "outputs": [],
   "source": [
    "# Droping open_acc since it is very similar to total_acc\n",
    "df.drop('open_acc',axis=1,inplace = True)"
   ]
  },
  {
   "cell_type": "code",
   "execution_count": 102,
   "metadata": {},
   "outputs": [],
   "source": [
    "# Dropping the date issues column to avoid data leakage\n",
    "df.drop(['issue_d'],axis=1,inplace = True)"
   ]
  },
  {
   "cell_type": "code",
   "execution_count": 123,
   "metadata": {},
   "outputs": [],
   "source": [
    "# Dropping the revol_util missing values as # of missing values are very low\n",
    "df.dropna(inplace = True)"
   ]
  },
  {
   "cell_type": "code",
   "execution_count": 124,
   "metadata": {
    "scrolled": true
   },
   "outputs": [
    {
     "name": "stdout",
     "output_type": "stream",
     "text": [
      "<class 'pandas.core.frame.DataFrame'>\n",
      "Int64Index: 395754 entries, 0 to 396029\n",
      "Data columns (total 47 columns):\n",
      " #   Column              Non-Null Count   Dtype  \n",
      "---  ------              --------------   -----  \n",
      " 0   05113               395754 non-null  uint8  \n",
      " 1   11650               395754 non-null  uint8  \n",
      " 2   22690               395754 non-null  uint8  \n",
      " 3   29597               395754 non-null  uint8  \n",
      " 4   30723               395754 non-null  uint8  \n",
      " 5   48052               395754 non-null  uint8  \n",
      " 6   70466               395754 non-null  uint8  \n",
      " 7   86630               395754 non-null  uint8  \n",
      " 8   93700               395754 non-null  uint8  \n",
      " 9   INDIVIDUAL          395754 non-null  uint8  \n",
      " 10  JOINT               395754 non-null  uint8  \n",
      " 11  w                   395754 non-null  uint8  \n",
      " 12  credit_card         395754 non-null  uint8  \n",
      " 13  debt_consolidation  395754 non-null  uint8  \n",
      " 14  educational         395754 non-null  uint8  \n",
      " 15  home_improvement    395754 non-null  uint8  \n",
      " 16  house               395754 non-null  uint8  \n",
      " 17  major_purchase      395754 non-null  uint8  \n",
      " 18  medical             395754 non-null  uint8  \n",
      " 19  moving              395754 non-null  uint8  \n",
      " 20  other               395754 non-null  uint8  \n",
      " 21  renewable_energy    395754 non-null  uint8  \n",
      " 22  small_business      395754 non-null  uint8  \n",
      " 23  vacation            395754 non-null  uint8  \n",
      " 24  wedding             395754 non-null  uint8  \n",
      " 25  Source Verified     395754 non-null  uint8  \n",
      " 26  Verified            395754 non-null  uint8  \n",
      " 27  MORTGAGE            395754 non-null  uint8  \n",
      " 28  NONE                395754 non-null  uint8  \n",
      " 29  OTHER               395754 non-null  uint8  \n",
      " 30  OWN                 395754 non-null  uint8  \n",
      " 31  RENT                395754 non-null  uint8  \n",
      " 32  loan_amnt           395754 non-null  float64\n",
      " 33  term                395754 non-null  int64  \n",
      " 34  int_rate            395754 non-null  float64\n",
      " 35  installment         395754 non-null  float64\n",
      " 36  sub_grade           395754 non-null  int32  \n",
      " 37  annual_inc          395754 non-null  float64\n",
      " 38  loan_status         395754 non-null  int32  \n",
      " 39  dti                 395754 non-null  float64\n",
      " 40  pub_rec             395754 non-null  float64\n",
      " 41  revol_bal           395754 non-null  float64\n",
      " 42  revol_util          395754 non-null  float64\n",
      " 43  total_acc           395754 non-null  float64\n",
      " 44  mort_acc            395754 non-null  float64\n",
      " 45  year                395754 non-null  int64  \n",
      " 46  credit_history_age  395754 non-null  int64  \n",
      "dtypes: float64(10), int32(2), int64(3), uint8(32)\n",
      "memory usage: 57.4 MB\n"
     ]
    }
   ],
   "source": [
    "df.info()"
   ]
  },
  {
   "cell_type": "code",
   "execution_count": 125,
   "metadata": {},
   "outputs": [
    {
     "data": {
      "text/plain": [
       "0    1\n",
       "1    1\n",
       "2    1\n",
       "3    1\n",
       "4    0\n",
       "Name: loan_status, dtype: int64"
      ]
     },
     "execution_count": 125,
     "metadata": {},
     "output_type": "execute_result"
    }
   ],
   "source": [
    "#Label encoding the loan_status label\n",
    "\n",
    "df['loan_status'] = lb.fit_transform(df['loan_status'])\n",
    "df['loan_status'].head()"
   ]
  },
  {
   "cell_type": "markdown",
   "metadata": {},
   "source": [
    "# Train Test Split"
   ]
  },
  {
   "cell_type": "code",
   "execution_count": 127,
   "metadata": {},
   "outputs": [],
   "source": [
    "X = df.drop('loan_status',axis=1).values\n",
    "y = df['loan_status'].values"
   ]
  },
  {
   "cell_type": "code",
   "execution_count": 128,
   "metadata": {},
   "outputs": [],
   "source": [
    "from sklearn.model_selection import train_test_split"
   ]
  },
  {
   "cell_type": "code",
   "execution_count": 129,
   "metadata": {},
   "outputs": [],
   "source": [
    "# 70-30 split\n",
    "X_train, X_test, y_train, y_test = train_test_split(X, y, test_size=0.3, random_state=101)"
   ]
  },
  {
   "cell_type": "markdown",
   "metadata": {},
   "source": [
    "# Fitting the Model"
   ]
  },
  {
   "cell_type": "markdown",
   "metadata": {},
   "source": [
    "We will be testing our model on the following classifiers:\n",
    "* XGBoost,\n",
    "* Random Forest, \n",
    "* Decision Tree and \n",
    "* Logistic Regression\n",
    "\n",
    "We will then compare the results and choose the best fit."
   ]
  },
  {
   "cell_type": "code",
   "execution_count": 167,
   "metadata": {},
   "outputs": [],
   "source": [
    "# Importing XGBoost,Random Forest, Decision Tree and Logistic Regression\n",
    "from xgboost import XGBClassifier\n",
    "from sklearn.ensemble import RandomForestClassifier\n",
    "from sklearn.tree import DecisionTreeClassifier\n",
    "from sklearn.linear_model import LogisticRegression"
   ]
  },
  {
   "cell_type": "code",
   "execution_count": 168,
   "metadata": {},
   "outputs": [],
   "source": [
    "# Setting instances\n",
    "xgb = XGBClassifier()\n",
    "rfc = RandomForestClassifier(n_estimators=50)\n",
    "dtree = DecisionTreeClassifier()\n",
    "log = LogisticRegression(max_iter=10000)"
   ]
  },
  {
   "cell_type": "code",
   "execution_count": 169,
   "metadata": {},
   "outputs": [
    {
     "data": {
      "text/plain": [
       "LogisticRegression(max_iter=10000)"
      ]
     },
     "execution_count": 169,
     "metadata": {},
     "output_type": "execute_result"
    }
   ],
   "source": [
    "# Fitting all model instances\n",
    "xgb.fit(X_train,y_train)\n",
    "rfc.fit(X_train,y_train)\n",
    "dtree.fit(X_train,y_train)\n",
    "log.fit(X_train,y_train)"
   ]
  },
  {
   "cell_type": "code",
   "execution_count": 171,
   "metadata": {},
   "outputs": [],
   "source": [
    "# Predictions\n",
    "predictions_xgb = xgb.predict(X_test)\n",
    "predictions_rfc = rfc.predict(X_test)\n",
    "predictions_dtree = dtree.predict(X_test)\n",
    "predictions_log = log.predict(X_test)"
   ]
  },
  {
   "cell_type": "markdown",
   "metadata": {},
   "source": [
    "# Model Evaluation"
   ]
  },
  {
   "cell_type": "markdown",
   "metadata": {},
   "source": [
    "We will evaluate each model's performance based on the following:\n",
    "* Classification report\n",
    "* Confusion matrix"
   ]
  },
  {
   "cell_type": "code",
   "execution_count": 172,
   "metadata": {},
   "outputs": [],
   "source": [
    "from sklearn.metrics import classification_report,confusion_matrix"
   ]
  },
  {
   "cell_type": "code",
   "execution_count": 174,
   "metadata": {},
   "outputs": [
    {
     "name": "stdout",
     "output_type": "stream",
     "text": [
      "XGB results\n",
      "Classification Report\n",
      "              precision    recall  f1-score   support\n",
      "\n",
      "           0       0.91      0.48      0.63     23168\n",
      "           1       0.89      0.99      0.93     95559\n",
      "\n",
      "    accuracy                           0.89    118727\n",
      "   macro avg       0.90      0.73      0.78    118727\n",
      "weighted avg       0.89      0.89      0.88    118727\n",
      "\n",
      "Confusion Matrix\n",
      "[[11137 12031]\n",
      " [ 1117 94442]]\n",
      "\n",
      "\n",
      "----------\n",
      "Random Forest results\n",
      "Classification Report\n",
      "              precision    recall  f1-score   support\n",
      "\n",
      "           0       0.93      0.47      0.62     23168\n",
      "           1       0.88      0.99      0.94     95559\n",
      "\n",
      "    accuracy                           0.89    118727\n",
      "   macro avg       0.91      0.73      0.78    118727\n",
      "weighted avg       0.89      0.89      0.87    118727\n",
      "\n",
      "Confusion Matrix\n",
      "[[10843 12325]\n",
      " [  834 94725]]\n",
      "\n",
      "\n",
      "----------\n",
      "Decision Tree results\n",
      "Classification Report\n",
      "              precision    recall  f1-score   support\n",
      "\n",
      "           0       0.56      0.59      0.58     23168\n",
      "           1       0.90      0.89      0.89     95559\n",
      "\n",
      "    accuracy                           0.83    118727\n",
      "   macro avg       0.73      0.74      0.74    118727\n",
      "weighted avg       0.83      0.83      0.83    118727\n",
      "\n",
      "Confusion Matrix\n",
      "[[13732  9436]\n",
      " [10682 84877]]\n",
      "\n",
      "\n",
      "----------\n",
      "Logmodel results\n",
      "Classification Report\n",
      "              precision    recall  f1-score   support\n",
      "\n",
      "           0       0.51      0.07      0.12     23168\n",
      "           1       0.81      0.98      0.89     95559\n",
      "\n",
      "    accuracy                           0.81    118727\n",
      "   macro avg       0.66      0.53      0.51    118727\n",
      "weighted avg       0.76      0.81      0.74    118727\n",
      "\n",
      "Confusion Matrix\n",
      "[[ 1636 21532]\n",
      " [ 1545 94014]]\n"
     ]
    }
   ],
   "source": [
    "print('XGB results')\n",
    "print('Classification Report')\n",
    "print(classification_report(y_test,predictions_xgb))\n",
    "print('Confusion Matrix')\n",
    "print(confusion_matrix(y_test,predictions_xgb))\n",
    "print('\\n')\n",
    "print('-'*10)\n",
    "\n",
    "print('Random Forest results')\n",
    "print('Classification Report')\n",
    "print(classification_report(y_test,predictions_rfc))\n",
    "print('Confusion Matrix')\n",
    "print(confusion_matrix(y_test,predictions_rfc))\n",
    "print('\\n')\n",
    "print('-'*10)\n",
    "\n",
    "print('Decision Tree results')\n",
    "print('Classification Report')\n",
    "print(classification_report(y_test,predictions_dtree))\n",
    "print('Confusion Matrix')\n",
    "print(confusion_matrix(y_test,predictions_dtree))\n",
    "print('\\n')\n",
    "print('-'*10)\n",
    "\n",
    "print('Logmodel results')\n",
    "print('Classification Report')\n",
    "print(classification_report(y_test,predictions_log))\n",
    "print('Confusion Matrix')\n",
    "print(confusion_matrix(y_test,predictions_log))\n"
   ]
  },
  {
   "cell_type": "markdown",
   "metadata": {},
   "source": [
    "# Conclusion"
   ]
  },
  {
   "cell_type": "markdown",
   "metadata": {},
   "source": [
    "There is a close contest between XG booster and Random Forest Classifier - the classification report and confusion matrix is very similar for both.\n",
    "\n",
    "Total misclassification was\n",
    "* XGB : (12031+1117) = 13148 ~ 11 less misclassifications than Random Forest\n",
    "* Random Forest CF : (12325+834) = 13159\n",
    "\n",
    "However, if Lending Club would want a slightly conservative approach, we should go for Decision Tree Classifier as TypeII error (Predicting loan would be paid back while it wasn't) was higher (1117) even when overall performance was better with XGB."
   ]
  }
 ],
 "metadata": {
  "kernelspec": {
   "display_name": "Python 3",
   "language": "python",
   "name": "python3"
  },
  "language_info": {
   "codemirror_mode": {
    "name": "ipython",
    "version": 3
   },
   "file_extension": ".py",
   "mimetype": "text/x-python",
   "name": "python",
   "nbconvert_exporter": "python",
   "pygments_lexer": "ipython3",
   "version": "3.7.1"
  }
 },
 "nbformat": 4,
 "nbformat_minor": 2
}
